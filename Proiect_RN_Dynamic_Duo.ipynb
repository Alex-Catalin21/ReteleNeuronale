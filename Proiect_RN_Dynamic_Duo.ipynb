{
  "nbformat": 4,
  "nbformat_minor": 0,
  "metadata": {
    "colab": {
      "provenance": [],
      "include_colab_link": true
    },
    "kernelspec": {
      "name": "python3",
      "display_name": "Python 3"
    },
    "language_info": {
      "name": "python"
    }
  },
  "cells": [
    {
      "cell_type": "markdown",
      "metadata": {
        "id": "view-in-github",
        "colab_type": "text"
      },
      "source": [
        "<a href=\"https://colab.research.google.com/github/Alex-Catalin21/ReteleNeuronale/blob/main/Proiect_RN_Dynamic_Duo.ipynb\" target=\"_parent\"><img src=\"https://colab.research.google.com/assets/colab-badge.svg\" alt=\"Open In Colab\"/></a>"
      ]
    },
    {
      "cell_type": "code",
      "execution_count": 1,
      "metadata": {
        "id": "33ARQIw2MM5r"
      },
      "outputs": [],
      "source": [
        "import pandas as pd\n",
        "url = 'https://raw.githubusercontent.com/Alex-Catalin21/ReteleNeuronale/main/data_cancer.csv'\n",
        "data = pd.read_csv(url)\n",
        "del data['Unnamed: 32']\n"
      ]
    },
    {
      "cell_type": "code",
      "source": [
        "data.columns"
      ],
      "metadata": {
        "id": "LbSrK0t4qPKi",
        "outputId": "c2babc0d-d22e-4fc1-a4ce-10ec51f0cfdf",
        "colab": {
          "base_uri": "https://localhost:8080/"
        }
      },
      "execution_count": 2,
      "outputs": [
        {
          "output_type": "execute_result",
          "data": {
            "text/plain": [
              "Index(['id', 'diagnosis', 'radius_mean', 'texture_mean', 'perimeter_mean',\n",
              "       'area_mean', 'smoothness_mean', 'compactness_mean', 'concavity_mean',\n",
              "       'concave points_mean', 'symmetry_mean', 'fractal_dimension_mean',\n",
              "       'radius_se', 'texture_se', 'perimeter_se', 'area_se', 'smoothness_se',\n",
              "       'compactness_se', 'concavity_se', 'concave points_se', 'symmetry_se',\n",
              "       'fractal_dimension_se', 'radius_worst', 'texture_worst',\n",
              "       'perimeter_worst', 'area_worst', 'smoothness_worst',\n",
              "       'compactness_worst', 'concavity_worst', 'concave points_worst',\n",
              "       'symmetry_worst', 'fractal_dimension_worst'],\n",
              "      dtype='object')"
            ]
          },
          "metadata": {},
          "execution_count": 2
        }
      ]
    },
    {
      "cell_type": "code",
      "source": [
        "x = data.iloc[:, 2:].values\n",
        "y = data.iloc[:, 1].values\n",
        "\n",
        "# Encoding categorical data\n",
        "from sklearn.preprocessing import LabelEncoder\n",
        "\n",
        "labelencoder_X_1 = LabelEncoder()\n",
        "y = labelencoder_X_1.fit_transform(y)\n",
        "\n",
        "# Splitting the dataset into the Training set and Test set\n",
        "from sklearn.model_selection import train_test_split\n",
        "X_train, X_test, y_train, y_test = train_test_split(x, y, test_size=0.1, random_state=0)\n",
        "\n",
        "# Feature Scaling\n",
        "from sklearn.preprocessing import StandardScaler\n",
        "sc = StandardScaler()\n",
        "X_train = sc.fit_transform(X_train)\n",
        "X_test = sc.transform(X_test)"
      ],
      "metadata": {
        "id": "vgOGINaKrwNh"
      },
      "execution_count": 4,
      "outputs": []
    },
    {
      "cell_type": "code",
      "source": [
        "import keras\n",
        "from keras import layers \n",
        "from keras import models \n",
        "network = models.Sequential()"
      ],
      "metadata": {
        "id": "VfbCLiq9sDGt"
      },
      "execution_count": 6,
      "outputs": []
    },
    {
      "cell_type": "code",
      "source": [
        "# input layer and the first hidden layer\n",
        "network.add(layers.Dense(16,activation='relu', input_dim=30))\n",
        "# Adding dropout to prevent overfitting\n",
        "network.add(layers.Dropout(rate=0.1))"
      ],
      "metadata": {
        "id": "-1ukhyKOsD-f"
      },
      "execution_count": 25,
      "outputs": []
    },
    {
      "cell_type": "code",
      "source": [
        "# Adding the second hidden layer\n",
        "network.add(layers.Dense(16,activation='relu'))\n",
        "# Adding dropout to prevent overfitting\n",
        "network.add(layers.Dropout(rate=0.1))"
      ],
      "metadata": {
        "id": "TTUNNVyxs4Ww"
      },
      "execution_count": 26,
      "outputs": []
    },
    {
      "cell_type": "code",
      "source": [
        "# Adding the output layer\n",
        "network.add(layers.Dense(1, activation='sigmoid'))"
      ],
      "metadata": {
        "id": "X1Gx3dVztD9e"
      },
      "execution_count": 27,
      "outputs": []
    },
    {
      "cell_type": "code",
      "source": [
        "X_train.shape, y_train.shape"
      ],
      "metadata": {
        "id": "d2JyGX83tQOH",
        "outputId": "807be5a5-ee8f-4ee4-b455-69851a720957",
        "colab": {
          "base_uri": "https://localhost:8080/"
        }
      },
      "execution_count": 28,
      "outputs": [
        {
          "output_type": "execute_result",
          "data": {
            "text/plain": [
              "((512, 30), (512,))"
            ]
          },
          "metadata": {},
          "execution_count": 28
        }
      ]
    },
    {
      "cell_type": "code",
      "source": [
        "X_test.shape, y_test.shape"
      ],
      "metadata": {
        "id": "Hx_SRtqxti28",
        "outputId": "172493b3-b78a-46ef-89ba-0676a1e90e54",
        "colab": {
          "base_uri": "https://localhost:8080/"
        }
      },
      "execution_count": 29,
      "outputs": [
        {
          "output_type": "execute_result",
          "data": {
            "text/plain": [
              "((57, 30), (57,))"
            ]
          },
          "metadata": {},
          "execution_count": 29
        }
      ]
    },
    {
      "cell_type": "code",
      "source": [
        "# Compiling the ANN\n",
        "network.compile(optimizer='adam', loss='binary_crossentropy',metrics=['accuracy'])"
      ],
      "metadata": {
        "id": "WezH5MA4t2sT"
      },
      "execution_count": 30,
      "outputs": []
    },
    {
      "cell_type": "code",
      "source": [
        "# Fitting the ANN to the Training set\n",
        "network.fit(X_train, y_train, batch_size=100, epochs=150)\n",
        "# The batch siez and number of epochs have been set using trial and error"
      ],
      "metadata": {
        "id": "DfG5nUHtt6GD",
        "outputId": "ca05d3d1-3305-479f-ceab-4d6ae4ea4542",
        "colab": {
          "base_uri": "https://localhost:8080/"
        }
      },
      "execution_count": 31,
      "outputs": [
        {
          "output_type": "stream",
          "name": "stdout",
          "text": [
            "Epoch 1/150\n",
            "6/6 [==============================] - 1s 2ms/step - loss: 0.7483 - accuracy: 0.6543\n",
            "Epoch 2/150\n",
            "6/6 [==============================] - 0s 4ms/step - loss: 0.7406 - accuracy: 0.6504\n",
            "Epoch 3/150\n",
            "6/6 [==============================] - 0s 2ms/step - loss: 0.7222 - accuracy: 0.6738\n",
            "Epoch 4/150\n",
            "6/6 [==============================] - 0s 3ms/step - loss: 0.7121 - accuracy: 0.6934\n",
            "Epoch 5/150\n",
            "6/6 [==============================] - 0s 2ms/step - loss: 0.7001 - accuracy: 0.7070\n",
            "Epoch 6/150\n",
            "6/6 [==============================] - 0s 2ms/step - loss: 0.6834 - accuracy: 0.7168\n",
            "Epoch 7/150\n",
            "6/6 [==============================] - 0s 4ms/step - loss: 0.6688 - accuracy: 0.8320\n",
            "Epoch 8/150\n",
            "6/6 [==============================] - 0s 3ms/step - loss: 0.6529 - accuracy: 0.8906\n",
            "Epoch 9/150\n",
            "6/6 [==============================] - 0s 2ms/step - loss: 0.6432 - accuracy: 0.9199\n",
            "Epoch 10/150\n",
            "6/6 [==============================] - 0s 3ms/step - loss: 0.6331 - accuracy: 0.9238\n",
            "Epoch 11/150\n",
            "6/6 [==============================] - 0s 2ms/step - loss: 0.6181 - accuracy: 0.9297\n",
            "Epoch 12/150\n",
            "6/6 [==============================] - 0s 3ms/step - loss: 0.6112 - accuracy: 0.9277\n",
            "Epoch 13/150\n",
            "6/6 [==============================] - 0s 2ms/step - loss: 0.5947 - accuracy: 0.9453\n",
            "Epoch 14/150\n",
            "6/6 [==============================] - 0s 2ms/step - loss: 0.5760 - accuracy: 0.9824\n",
            "Epoch 15/150\n",
            "6/6 [==============================] - 0s 2ms/step - loss: 0.5608 - accuracy: 0.9863\n",
            "Epoch 16/150\n",
            "6/6 [==============================] - 0s 3ms/step - loss: 0.5486 - accuracy: 0.9961\n",
            "Epoch 17/150\n",
            "6/6 [==============================] - 0s 2ms/step - loss: 0.5351 - accuracy: 0.9961\n",
            "Epoch 18/150\n",
            "6/6 [==============================] - 0s 2ms/step - loss: 0.5205 - accuracy: 0.9883\n",
            "Epoch 19/150\n",
            "6/6 [==============================] - 0s 2ms/step - loss: 0.5012 - accuracy: 0.9980\n",
            "Epoch 20/150\n",
            "6/6 [==============================] - 0s 2ms/step - loss: 0.4975 - accuracy: 0.9883\n",
            "Epoch 21/150\n",
            "6/6 [==============================] - 0s 2ms/step - loss: 0.4771 - accuracy: 0.9961\n",
            "Epoch 22/150\n",
            "6/6 [==============================] - 0s 2ms/step - loss: 0.4640 - accuracy: 0.9980\n",
            "Epoch 23/150\n",
            "6/6 [==============================] - 0s 2ms/step - loss: 0.4437 - accuracy: 1.0000\n",
            "Epoch 24/150\n",
            "6/6 [==============================] - 0s 2ms/step - loss: 0.4420 - accuracy: 0.9941\n",
            "Epoch 25/150\n",
            "6/6 [==============================] - 0s 3ms/step - loss: 0.4243 - accuracy: 0.9922\n",
            "Epoch 26/150\n",
            "6/6 [==============================] - 0s 3ms/step - loss: 0.4108 - accuracy: 0.9922\n",
            "Epoch 27/150\n",
            "6/6 [==============================] - 0s 2ms/step - loss: 0.3986 - accuracy: 0.9941\n",
            "Epoch 28/150\n",
            "6/6 [==============================] - 0s 2ms/step - loss: 0.3852 - accuracy: 0.9961\n",
            "Epoch 29/150\n",
            "6/6 [==============================] - 0s 2ms/step - loss: 0.3743 - accuracy: 0.9941\n",
            "Epoch 30/150\n",
            "6/6 [==============================] - 0s 2ms/step - loss: 0.3602 - accuracy: 0.9961\n",
            "Epoch 31/150\n",
            "6/6 [==============================] - 0s 2ms/step - loss: 0.3528 - accuracy: 0.9902\n",
            "Epoch 32/150\n",
            "6/6 [==============================] - 0s 2ms/step - loss: 0.3380 - accuracy: 0.9922\n",
            "Epoch 33/150\n",
            "6/6 [==============================] - 0s 2ms/step - loss: 0.3301 - accuracy: 0.9961\n",
            "Epoch 34/150\n",
            "6/6 [==============================] - 0s 2ms/step - loss: 0.3164 - accuracy: 1.0000\n",
            "Epoch 35/150\n",
            "6/6 [==============================] - 0s 2ms/step - loss: 0.3041 - accuracy: 0.9961\n",
            "Epoch 36/150\n",
            "6/6 [==============================] - 0s 2ms/step - loss: 0.2904 - accuracy: 1.0000\n",
            "Epoch 37/150\n",
            "6/6 [==============================] - 0s 2ms/step - loss: 0.2862 - accuracy: 0.9961\n",
            "Epoch 38/150\n",
            "6/6 [==============================] - 0s 2ms/step - loss: 0.2776 - accuracy: 0.9922\n",
            "Epoch 39/150\n",
            "6/6 [==============================] - 0s 2ms/step - loss: 0.2672 - accuracy: 0.9941\n",
            "Epoch 40/150\n",
            "6/6 [==============================] - 0s 2ms/step - loss: 0.2514 - accuracy: 0.9922\n",
            "Epoch 41/150\n",
            "6/6 [==============================] - 0s 2ms/step - loss: 0.2371 - accuracy: 0.9961\n",
            "Epoch 42/150\n",
            "6/6 [==============================] - 0s 2ms/step - loss: 0.2313 - accuracy: 0.9961\n",
            "Epoch 43/150\n",
            "6/6 [==============================] - 0s 3ms/step - loss: 0.2158 - accuracy: 0.9980\n",
            "Epoch 44/150\n",
            "6/6 [==============================] - 0s 2ms/step - loss: 0.2041 - accuracy: 0.9980\n",
            "Epoch 45/150\n",
            "6/6 [==============================] - 0s 2ms/step - loss: 0.1972 - accuracy: 0.9980\n",
            "Epoch 46/150\n",
            "6/6 [==============================] - 0s 2ms/step - loss: 0.1924 - accuracy: 0.9961\n",
            "Epoch 47/150\n",
            "6/6 [==============================] - 0s 2ms/step - loss: 0.1840 - accuracy: 0.9961\n",
            "Epoch 48/150\n",
            "6/6 [==============================] - 0s 3ms/step - loss: 0.1693 - accuracy: 1.0000\n",
            "Epoch 49/150\n",
            "6/6 [==============================] - 0s 2ms/step - loss: 0.1692 - accuracy: 0.9961\n",
            "Epoch 50/150\n",
            "6/6 [==============================] - 0s 2ms/step - loss: 0.1647 - accuracy: 0.9922\n",
            "Epoch 51/150\n",
            "6/6 [==============================] - 0s 2ms/step - loss: 0.1570 - accuracy: 0.9941\n",
            "Epoch 52/150\n",
            "6/6 [==============================] - 0s 2ms/step - loss: 0.1509 - accuracy: 0.9961\n",
            "Epoch 53/150\n",
            "6/6 [==============================] - 0s 2ms/step - loss: 0.1363 - accuracy: 1.0000\n",
            "Epoch 54/150\n",
            "6/6 [==============================] - 0s 2ms/step - loss: 0.1450 - accuracy: 0.9902\n",
            "Epoch 55/150\n",
            "6/6 [==============================] - 0s 2ms/step - loss: 0.1375 - accuracy: 0.9902\n",
            "Epoch 56/150\n",
            "6/6 [==============================] - 0s 2ms/step - loss: 0.1263 - accuracy: 0.9980\n",
            "Epoch 57/150\n",
            "6/6 [==============================] - 0s 2ms/step - loss: 0.1228 - accuracy: 0.9941\n",
            "Epoch 58/150\n",
            "6/6 [==============================] - 0s 2ms/step - loss: 0.1307 - accuracy: 0.9922\n",
            "Epoch 59/150\n",
            "6/6 [==============================] - 0s 2ms/step - loss: 0.1195 - accuracy: 0.9961\n",
            "Epoch 60/150\n",
            "6/6 [==============================] - 0s 2ms/step - loss: 0.1150 - accuracy: 0.9922\n",
            "Epoch 61/150\n",
            "6/6 [==============================] - 0s 2ms/step - loss: 0.1085 - accuracy: 0.9941\n",
            "Epoch 62/150\n",
            "6/6 [==============================] - 0s 2ms/step - loss: 0.1035 - accuracy: 0.9961\n",
            "Epoch 63/150\n",
            "6/6 [==============================] - 0s 3ms/step - loss: 0.0923 - accuracy: 1.0000\n",
            "Epoch 64/150\n",
            "6/6 [==============================] - 0s 2ms/step - loss: 0.0862 - accuracy: 0.9980\n",
            "Epoch 65/150\n",
            "6/6 [==============================] - 0s 2ms/step - loss: 0.0937 - accuracy: 0.9941\n",
            "Epoch 66/150\n",
            "6/6 [==============================] - 0s 3ms/step - loss: 0.0941 - accuracy: 0.9922\n",
            "Epoch 67/150\n",
            "6/6 [==============================] - 0s 2ms/step - loss: 0.0857 - accuracy: 0.9961\n",
            "Epoch 68/150\n",
            "6/6 [==============================] - 0s 2ms/step - loss: 0.0812 - accuracy: 0.9961\n",
            "Epoch 69/150\n",
            "6/6 [==============================] - 0s 2ms/step - loss: 0.0815 - accuracy: 0.9941\n",
            "Epoch 70/150\n",
            "6/6 [==============================] - 0s 2ms/step - loss: 0.0992 - accuracy: 0.9863\n",
            "Epoch 71/150\n",
            "6/6 [==============================] - 0s 2ms/step - loss: 0.0762 - accuracy: 0.9922\n",
            "Epoch 72/150\n",
            "6/6 [==============================] - 0s 3ms/step - loss: 0.0720 - accuracy: 0.9941\n",
            "Epoch 73/150\n",
            "6/6 [==============================] - 0s 2ms/step - loss: 0.0781 - accuracy: 0.9941\n",
            "Epoch 74/150\n",
            "6/6 [==============================] - 0s 3ms/step - loss: 0.0664 - accuracy: 1.0000\n",
            "Epoch 75/150\n",
            "6/6 [==============================] - 0s 2ms/step - loss: 0.0677 - accuracy: 0.9922\n",
            "Epoch 76/150\n",
            "6/6 [==============================] - 0s 2ms/step - loss: 0.0652 - accuracy: 0.9961\n",
            "Epoch 77/150\n",
            "6/6 [==============================] - 0s 2ms/step - loss: 0.0570 - accuracy: 1.0000\n",
            "Epoch 78/150\n",
            "6/6 [==============================] - 0s 2ms/step - loss: 0.0538 - accuracy: 1.0000\n",
            "Epoch 79/150\n",
            "6/6 [==============================] - 0s 2ms/step - loss: 0.0584 - accuracy: 0.9961\n",
            "Epoch 80/150\n",
            "6/6 [==============================] - 0s 2ms/step - loss: 0.0608 - accuracy: 0.9961\n",
            "Epoch 81/150\n",
            "6/6 [==============================] - 0s 2ms/step - loss: 0.0554 - accuracy: 0.9961\n",
            "Epoch 82/150\n",
            "6/6 [==============================] - 0s 2ms/step - loss: 0.0446 - accuracy: 0.9980\n",
            "Epoch 83/150\n",
            "6/6 [==============================] - 0s 2ms/step - loss: 0.0482 - accuracy: 0.9961\n",
            "Epoch 84/150\n",
            "6/6 [==============================] - 0s 2ms/step - loss: 0.0504 - accuracy: 0.9961\n",
            "Epoch 85/150\n",
            "6/6 [==============================] - 0s 2ms/step - loss: 0.0504 - accuracy: 0.9961\n",
            "Epoch 86/150\n",
            "6/6 [==============================] - 0s 2ms/step - loss: 0.0555 - accuracy: 0.9922\n",
            "Epoch 87/150\n",
            "6/6 [==============================] - 0s 2ms/step - loss: 0.0490 - accuracy: 0.9961\n",
            "Epoch 88/150\n",
            "6/6 [==============================] - 0s 2ms/step - loss: 0.0478 - accuracy: 0.9922\n",
            "Epoch 89/150\n",
            "6/6 [==============================] - 0s 2ms/step - loss: 0.0406 - accuracy: 0.9961\n",
            "Epoch 90/150\n",
            "6/6 [==============================] - 0s 2ms/step - loss: 0.0382 - accuracy: 0.9980\n",
            "Epoch 91/150\n",
            "6/6 [==============================] - 0s 2ms/step - loss: 0.0375 - accuracy: 1.0000\n",
            "Epoch 92/150\n",
            "6/6 [==============================] - 0s 2ms/step - loss: 0.0420 - accuracy: 0.9941\n",
            "Epoch 93/150\n",
            "6/6 [==============================] - 0s 2ms/step - loss: 0.0409 - accuracy: 0.9961\n",
            "Epoch 94/150\n",
            "6/6 [==============================] - 0s 2ms/step - loss: 0.0335 - accuracy: 1.0000\n",
            "Epoch 95/150\n",
            "6/6 [==============================] - 0s 3ms/step - loss: 0.0400 - accuracy: 0.9941\n",
            "Epoch 96/150\n",
            "6/6 [==============================] - 0s 2ms/step - loss: 0.0478 - accuracy: 0.9902\n",
            "Epoch 97/150\n",
            "6/6 [==============================] - 0s 2ms/step - loss: 0.0456 - accuracy: 0.9922\n",
            "Epoch 98/150\n",
            "6/6 [==============================] - 0s 2ms/step - loss: 0.0412 - accuracy: 0.9922\n",
            "Epoch 99/150\n",
            "6/6 [==============================] - 0s 2ms/step - loss: 0.0386 - accuracy: 0.9941\n",
            "Epoch 100/150\n",
            "6/6 [==============================] - 0s 2ms/step - loss: 0.0422 - accuracy: 0.9902\n",
            "Epoch 101/150\n",
            "6/6 [==============================] - 0s 3ms/step - loss: 0.0351 - accuracy: 0.9961\n",
            "Epoch 102/150\n",
            "6/6 [==============================] - 0s 2ms/step - loss: 0.0383 - accuracy: 0.9922\n",
            "Epoch 103/150\n",
            "6/6 [==============================] - 0s 2ms/step - loss: 0.0377 - accuracy: 0.9922\n",
            "Epoch 104/150\n",
            "6/6 [==============================] - 0s 2ms/step - loss: 0.0378 - accuracy: 0.9902\n",
            "Epoch 105/150\n",
            "6/6 [==============================] - 0s 3ms/step - loss: 0.0289 - accuracy: 0.9980\n",
            "Epoch 106/150\n",
            "6/6 [==============================] - 0s 2ms/step - loss: 0.0267 - accuracy: 1.0000\n",
            "Epoch 107/150\n",
            "6/6 [==============================] - 0s 2ms/step - loss: 0.0321 - accuracy: 0.9961\n",
            "Epoch 108/150\n",
            "6/6 [==============================] - 0s 2ms/step - loss: 0.0421 - accuracy: 0.9922\n",
            "Epoch 109/150\n",
            "6/6 [==============================] - 0s 2ms/step - loss: 0.0344 - accuracy: 0.9922\n",
            "Epoch 110/150\n",
            "6/6 [==============================] - 0s 2ms/step - loss: 0.0270 - accuracy: 0.9980\n",
            "Epoch 111/150\n",
            "6/6 [==============================] - 0s 2ms/step - loss: 0.0289 - accuracy: 0.9941\n",
            "Epoch 112/150\n",
            "6/6 [==============================] - 0s 2ms/step - loss: 0.0266 - accuracy: 0.9961\n",
            "Epoch 113/150\n",
            "6/6 [==============================] - 0s 2ms/step - loss: 0.0271 - accuracy: 0.9941\n",
            "Epoch 114/150\n",
            "6/6 [==============================] - 0s 2ms/step - loss: 0.0352 - accuracy: 0.9922\n",
            "Epoch 115/150\n",
            "6/6 [==============================] - 0s 2ms/step - loss: 0.0206 - accuracy: 1.0000\n",
            "Epoch 116/150\n",
            "6/6 [==============================] - 0s 3ms/step - loss: 0.0340 - accuracy: 0.9883\n",
            "Epoch 117/150\n",
            "6/6 [==============================] - 0s 2ms/step - loss: 0.0242 - accuracy: 0.9961\n",
            "Epoch 118/150\n",
            "6/6 [==============================] - 0s 2ms/step - loss: 0.0227 - accuracy: 0.9961\n",
            "Epoch 119/150\n",
            "6/6 [==============================] - 0s 2ms/step - loss: 0.0180 - accuracy: 1.0000\n",
            "Epoch 120/150\n",
            "6/6 [==============================] - 0s 2ms/step - loss: 0.0166 - accuracy: 1.0000\n",
            "Epoch 121/150\n",
            "6/6 [==============================] - 0s 2ms/step - loss: 0.0179 - accuracy: 1.0000\n",
            "Epoch 122/150\n",
            "6/6 [==============================] - 0s 2ms/step - loss: 0.0254 - accuracy: 0.9961\n",
            "Epoch 123/150\n",
            "6/6 [==============================] - 0s 2ms/step - loss: 0.0372 - accuracy: 0.9922\n",
            "Epoch 124/150\n",
            "6/6 [==============================] - 0s 2ms/step - loss: 0.0202 - accuracy: 0.9941\n",
            "Epoch 125/150\n",
            "6/6 [==============================] - 0s 2ms/step - loss: 0.0188 - accuracy: 0.9980\n",
            "Epoch 126/150\n",
            "6/6 [==============================] - 0s 2ms/step - loss: 0.0199 - accuracy: 0.9980\n",
            "Epoch 127/150\n",
            "6/6 [==============================] - 0s 2ms/step - loss: 0.0301 - accuracy: 0.9922\n",
            "Epoch 128/150\n",
            "6/6 [==============================] - 0s 2ms/step - loss: 0.0150 - accuracy: 1.0000\n",
            "Epoch 129/150\n",
            "6/6 [==============================] - 0s 2ms/step - loss: 0.0302 - accuracy: 0.9941\n",
            "Epoch 130/150\n",
            "6/6 [==============================] - 0s 2ms/step - loss: 0.0168 - accuracy: 0.9980\n",
            "Epoch 131/150\n",
            "6/6 [==============================] - 0s 2ms/step - loss: 0.0181 - accuracy: 0.9961\n",
            "Epoch 132/150\n",
            "6/6 [==============================] - 0s 2ms/step - loss: 0.0192 - accuracy: 0.9961\n",
            "Epoch 133/150\n",
            "6/6 [==============================] - 0s 2ms/step - loss: 0.0214 - accuracy: 0.9980\n",
            "Epoch 134/150\n",
            "6/6 [==============================] - 0s 2ms/step - loss: 0.0141 - accuracy: 1.0000\n",
            "Epoch 135/150\n",
            "6/6 [==============================] - 0s 2ms/step - loss: 0.0219 - accuracy: 0.9961\n",
            "Epoch 136/150\n",
            "6/6 [==============================] - 0s 2ms/step - loss: 0.0235 - accuracy: 0.9922\n",
            "Epoch 137/150\n",
            "6/6 [==============================] - 0s 2ms/step - loss: 0.0264 - accuracy: 0.9941\n",
            "Epoch 138/150\n",
            "6/6 [==============================] - 0s 2ms/step - loss: 0.0140 - accuracy: 0.9980\n",
            "Epoch 139/150\n",
            "6/6 [==============================] - 0s 2ms/step - loss: 0.0191 - accuracy: 0.9961\n",
            "Epoch 140/150\n",
            "6/6 [==============================] - 0s 2ms/step - loss: 0.0208 - accuracy: 0.9980\n",
            "Epoch 141/150\n",
            "6/6 [==============================] - 0s 2ms/step - loss: 0.0237 - accuracy: 0.9961\n",
            "Epoch 142/150\n",
            "6/6 [==============================] - 0s 2ms/step - loss: 0.0110 - accuracy: 1.0000\n",
            "Epoch 143/150\n",
            "6/6 [==============================] - 0s 2ms/step - loss: 0.0287 - accuracy: 0.9941\n",
            "Epoch 144/150\n",
            "6/6 [==============================] - 0s 2ms/step - loss: 0.0119 - accuracy: 1.0000\n",
            "Epoch 145/150\n",
            "6/6 [==============================] - 0s 2ms/step - loss: 0.0149 - accuracy: 0.9980\n",
            "Epoch 146/150\n",
            "6/6 [==============================] - 0s 2ms/step - loss: 0.0202 - accuracy: 0.9941\n",
            "Epoch 147/150\n",
            "6/6 [==============================] - 0s 2ms/step - loss: 0.0281 - accuracy: 0.9961\n",
            "Epoch 148/150\n",
            "6/6 [==============================] - 0s 2ms/step - loss: 0.0185 - accuracy: 0.9980\n",
            "Epoch 149/150\n",
            "6/6 [==============================] - 0s 2ms/step - loss: 0.0126 - accuracy: 0.9980\n",
            "Epoch 150/150\n",
            "6/6 [==============================] - 0s 2ms/step - loss: 0.0111 - accuracy: 1.0000\n"
          ]
        },
        {
          "output_type": "execute_result",
          "data": {
            "text/plain": [
              "<keras.callbacks.History at 0x7fdf40e1af40>"
            ]
          },
          "metadata": {},
          "execution_count": 31
        }
      ]
    },
    {
      "cell_type": "code",
      "source": [
        "history = network.fit(X_train, y_train,\n",
        "            validation_data=(X_test, y_test),\n",
        "            epochs=150,batch_size=100)\n",
        "# fixed history"
      ],
      "metadata": {
        "id": "Oc-2Cx8VuQ1f",
        "outputId": "63ec658c-e06b-4b09-ea26-205523bcad89",
        "colab": {
          "base_uri": "https://localhost:8080/"
        }
      },
      "execution_count": 32,
      "outputs": [
        {
          "output_type": "stream",
          "name": "stdout",
          "text": [
            "Epoch 1/150\n",
            "6/6 [==============================] - 0s 26ms/step - loss: 0.0210 - accuracy: 0.9941 - val_loss: 0.0061 - val_accuracy: 1.0000\n",
            "Epoch 2/150\n",
            "6/6 [==============================] - 0s 4ms/step - loss: 0.0267 - accuracy: 0.9941 - val_loss: 0.0061 - val_accuracy: 1.0000\n",
            "Epoch 3/150\n",
            "6/6 [==============================] - 0s 5ms/step - loss: 0.0127 - accuracy: 1.0000 - val_loss: 0.0060 - val_accuracy: 1.0000\n",
            "Epoch 4/150\n",
            "6/6 [==============================] - 0s 5ms/step - loss: 0.0128 - accuracy: 0.9980 - val_loss: 0.0058 - val_accuracy: 1.0000\n",
            "Epoch 5/150\n",
            "6/6 [==============================] - 0s 4ms/step - loss: 0.0141 - accuracy: 0.9980 - val_loss: 0.0057 - val_accuracy: 1.0000\n",
            "Epoch 6/150\n",
            "6/6 [==============================] - 0s 5ms/step - loss: 0.0135 - accuracy: 0.9980 - val_loss: 0.0055 - val_accuracy: 1.0000\n",
            "Epoch 7/150\n",
            "6/6 [==============================] - 0s 5ms/step - loss: 0.0258 - accuracy: 0.9902 - val_loss: 0.0054 - val_accuracy: 1.0000\n",
            "Epoch 8/150\n",
            "6/6 [==============================] - 0s 5ms/step - loss: 0.0181 - accuracy: 0.9980 - val_loss: 0.0054 - val_accuracy: 1.0000\n",
            "Epoch 9/150\n",
            "6/6 [==============================] - 0s 5ms/step - loss: 0.0179 - accuracy: 0.9980 - val_loss: 0.0054 - val_accuracy: 1.0000\n",
            "Epoch 10/150\n",
            "6/6 [==============================] - 0s 5ms/step - loss: 0.0119 - accuracy: 1.0000 - val_loss: 0.0053 - val_accuracy: 1.0000\n",
            "Epoch 11/150\n",
            "6/6 [==============================] - 0s 5ms/step - loss: 0.0107 - accuracy: 1.0000 - val_loss: 0.0052 - val_accuracy: 1.0000\n",
            "Epoch 12/150\n",
            "6/6 [==============================] - 0s 6ms/step - loss: 0.0207 - accuracy: 0.9941 - val_loss: 0.0052 - val_accuracy: 1.0000\n",
            "Epoch 13/150\n",
            "6/6 [==============================] - 0s 5ms/step - loss: 0.0195 - accuracy: 0.9980 - val_loss: 0.0053 - val_accuracy: 1.0000\n",
            "Epoch 14/150\n",
            "6/6 [==============================] - 0s 4ms/step - loss: 0.0242 - accuracy: 0.9961 - val_loss: 0.0054 - val_accuracy: 1.0000\n",
            "Epoch 15/150\n",
            "6/6 [==============================] - 0s 5ms/step - loss: 0.0146 - accuracy: 0.9980 - val_loss: 0.0054 - val_accuracy: 1.0000\n",
            "Epoch 16/150\n",
            "6/6 [==============================] - 0s 5ms/step - loss: 0.0186 - accuracy: 0.9961 - val_loss: 0.0052 - val_accuracy: 1.0000\n",
            "Epoch 17/150\n",
            "6/6 [==============================] - 0s 5ms/step - loss: 0.0222 - accuracy: 0.9980 - val_loss: 0.0051 - val_accuracy: 1.0000\n",
            "Epoch 18/150\n",
            "6/6 [==============================] - 0s 5ms/step - loss: 0.0207 - accuracy: 0.9980 - val_loss: 0.0050 - val_accuracy: 1.0000\n",
            "Epoch 19/150\n",
            "6/6 [==============================] - 0s 5ms/step - loss: 0.0235 - accuracy: 0.9941 - val_loss: 0.0049 - val_accuracy: 1.0000\n",
            "Epoch 20/150\n",
            "6/6 [==============================] - 0s 5ms/step - loss: 0.0155 - accuracy: 0.9961 - val_loss: 0.0048 - val_accuracy: 1.0000\n",
            "Epoch 21/150\n",
            "6/6 [==============================] - 0s 6ms/step - loss: 0.0122 - accuracy: 1.0000 - val_loss: 0.0048 - val_accuracy: 1.0000\n",
            "Epoch 22/150\n",
            "6/6 [==============================] - 0s 5ms/step - loss: 0.0126 - accuracy: 0.9980 - val_loss: 0.0047 - val_accuracy: 1.0000\n",
            "Epoch 23/150\n",
            "6/6 [==============================] - 0s 5ms/step - loss: 0.0102 - accuracy: 1.0000 - val_loss: 0.0046 - val_accuracy: 1.0000\n",
            "Epoch 24/150\n",
            "6/6 [==============================] - 0s 5ms/step - loss: 0.0163 - accuracy: 0.9961 - val_loss: 0.0045 - val_accuracy: 1.0000\n",
            "Epoch 25/150\n",
            "6/6 [==============================] - 0s 5ms/step - loss: 0.0089 - accuracy: 1.0000 - val_loss: 0.0044 - val_accuracy: 1.0000\n",
            "Epoch 26/150\n",
            "6/6 [==============================] - 0s 5ms/step - loss: 0.0165 - accuracy: 0.9961 - val_loss: 0.0043 - val_accuracy: 1.0000\n",
            "Epoch 27/150\n",
            "6/6 [==============================] - 0s 4ms/step - loss: 0.0110 - accuracy: 0.9980 - val_loss: 0.0043 - val_accuracy: 1.0000\n",
            "Epoch 28/150\n",
            "6/6 [==============================] - 0s 5ms/step - loss: 0.0161 - accuracy: 0.9980 - val_loss: 0.0042 - val_accuracy: 1.0000\n",
            "Epoch 29/150\n",
            "6/6 [==============================] - 0s 5ms/step - loss: 0.0224 - accuracy: 0.9980 - val_loss: 0.0041 - val_accuracy: 1.0000\n",
            "Epoch 30/150\n",
            "6/6 [==============================] - 0s 4ms/step - loss: 0.0216 - accuracy: 0.9961 - val_loss: 0.0040 - val_accuracy: 1.0000\n",
            "Epoch 31/150\n",
            "6/6 [==============================] - 0s 4ms/step - loss: 0.0187 - accuracy: 0.9941 - val_loss: 0.0040 - val_accuracy: 1.0000\n",
            "Epoch 32/150\n",
            "6/6 [==============================] - 0s 4ms/step - loss: 0.0138 - accuracy: 0.9961 - val_loss: 0.0040 - val_accuracy: 1.0000\n",
            "Epoch 33/150\n",
            "6/6 [==============================] - 0s 4ms/step - loss: 0.0188 - accuracy: 0.9961 - val_loss: 0.0039 - val_accuracy: 1.0000\n",
            "Epoch 34/150\n",
            "6/6 [==============================] - 0s 4ms/step - loss: 0.0124 - accuracy: 0.9980 - val_loss: 0.0038 - val_accuracy: 1.0000\n",
            "Epoch 35/150\n",
            "6/6 [==============================] - 0s 5ms/step - loss: 0.0095 - accuracy: 1.0000 - val_loss: 0.0038 - val_accuracy: 1.0000\n",
            "Epoch 36/150\n",
            "6/6 [==============================] - 0s 5ms/step - loss: 0.0074 - accuracy: 1.0000 - val_loss: 0.0037 - val_accuracy: 1.0000\n",
            "Epoch 37/150\n",
            "6/6 [==============================] - 0s 8ms/step - loss: 0.0073 - accuracy: 1.0000 - val_loss: 0.0037 - val_accuracy: 1.0000\n",
            "Epoch 38/150\n",
            "6/6 [==============================] - 0s 6ms/step - loss: 0.0235 - accuracy: 0.9980 - val_loss: 0.0036 - val_accuracy: 1.0000\n",
            "Epoch 39/150\n",
            "6/6 [==============================] - 0s 5ms/step - loss: 0.0117 - accuracy: 0.9980 - val_loss: 0.0036 - val_accuracy: 1.0000\n",
            "Epoch 40/150\n",
            "6/6 [==============================] - 0s 5ms/step - loss: 0.0080 - accuracy: 1.0000 - val_loss: 0.0035 - val_accuracy: 1.0000\n",
            "Epoch 41/150\n",
            "6/6 [==============================] - 0s 7ms/step - loss: 0.0091 - accuracy: 0.9980 - val_loss: 0.0036 - val_accuracy: 1.0000\n",
            "Epoch 42/150\n",
            "6/6 [==============================] - 0s 5ms/step - loss: 0.0103 - accuracy: 1.0000 - val_loss: 0.0036 - val_accuracy: 1.0000\n",
            "Epoch 43/150\n",
            "6/6 [==============================] - 0s 5ms/step - loss: 0.0135 - accuracy: 0.9980 - val_loss: 0.0035 - val_accuracy: 1.0000\n",
            "Epoch 44/150\n",
            "6/6 [==============================] - 0s 5ms/step - loss: 0.0144 - accuracy: 0.9980 - val_loss: 0.0035 - val_accuracy: 1.0000\n",
            "Epoch 45/150\n",
            "6/6 [==============================] - 0s 5ms/step - loss: 0.0091 - accuracy: 1.0000 - val_loss: 0.0034 - val_accuracy: 1.0000\n",
            "Epoch 46/150\n",
            "6/6 [==============================] - 0s 5ms/step - loss: 0.0362 - accuracy: 0.9961 - val_loss: 0.0034 - val_accuracy: 1.0000\n",
            "Epoch 47/150\n",
            "6/6 [==============================] - 0s 5ms/step - loss: 0.0078 - accuracy: 1.0000 - val_loss: 0.0033 - val_accuracy: 1.0000\n",
            "Epoch 48/150\n",
            "6/6 [==============================] - 0s 5ms/step - loss: 0.0073 - accuracy: 1.0000 - val_loss: 0.0033 - val_accuracy: 1.0000\n",
            "Epoch 49/150\n",
            "6/6 [==============================] - 0s 5ms/step - loss: 0.0172 - accuracy: 0.9961 - val_loss: 0.0033 - val_accuracy: 1.0000\n",
            "Epoch 50/150\n",
            "6/6 [==============================] - 0s 5ms/step - loss: 0.0088 - accuracy: 0.9980 - val_loss: 0.0032 - val_accuracy: 1.0000\n",
            "Epoch 51/150\n",
            "6/6 [==============================] - 0s 5ms/step - loss: 0.0202 - accuracy: 0.9980 - val_loss: 0.0032 - val_accuracy: 1.0000\n",
            "Epoch 52/150\n",
            "6/6 [==============================] - 0s 5ms/step - loss: 0.0054 - accuracy: 1.0000 - val_loss: 0.0031 - val_accuracy: 1.0000\n",
            "Epoch 53/150\n",
            "6/6 [==============================] - 0s 5ms/step - loss: 0.0084 - accuracy: 1.0000 - val_loss: 0.0030 - val_accuracy: 1.0000\n",
            "Epoch 54/150\n",
            "6/6 [==============================] - 0s 5ms/step - loss: 0.0075 - accuracy: 1.0000 - val_loss: 0.0030 - val_accuracy: 1.0000\n",
            "Epoch 55/150\n",
            "6/6 [==============================] - 0s 5ms/step - loss: 0.0070 - accuracy: 1.0000 - val_loss: 0.0029 - val_accuracy: 1.0000\n",
            "Epoch 56/150\n",
            "6/6 [==============================] - 0s 5ms/step - loss: 0.0074 - accuracy: 1.0000 - val_loss: 0.0028 - val_accuracy: 1.0000\n",
            "Epoch 57/150\n",
            "6/6 [==============================] - 0s 5ms/step - loss: 0.0094 - accuracy: 1.0000 - val_loss: 0.0028 - val_accuracy: 1.0000\n",
            "Epoch 58/150\n",
            "6/6 [==============================] - 0s 5ms/step - loss: 0.0062 - accuracy: 1.0000 - val_loss: 0.0028 - val_accuracy: 1.0000\n",
            "Epoch 59/150\n",
            "6/6 [==============================] - 0s 5ms/step - loss: 0.0145 - accuracy: 0.9980 - val_loss: 0.0027 - val_accuracy: 1.0000\n",
            "Epoch 60/150\n",
            "6/6 [==============================] - 0s 5ms/step - loss: 0.0057 - accuracy: 1.0000 - val_loss: 0.0027 - val_accuracy: 1.0000\n",
            "Epoch 61/150\n",
            "6/6 [==============================] - 0s 5ms/step - loss: 0.0086 - accuracy: 0.9980 - val_loss: 0.0026 - val_accuracy: 1.0000\n",
            "Epoch 62/150\n",
            "6/6 [==============================] - 0s 5ms/step - loss: 0.0246 - accuracy: 0.9922 - val_loss: 0.0027 - val_accuracy: 1.0000\n",
            "Epoch 63/150\n",
            "6/6 [==============================] - 0s 8ms/step - loss: 0.0151 - accuracy: 0.9961 - val_loss: 0.0027 - val_accuracy: 1.0000\n",
            "Epoch 64/150\n",
            "6/6 [==============================] - 0s 5ms/step - loss: 0.0126 - accuracy: 0.9980 - val_loss: 0.0026 - val_accuracy: 1.0000\n",
            "Epoch 65/150\n",
            "6/6 [==============================] - 0s 4ms/step - loss: 0.0064 - accuracy: 1.0000 - val_loss: 0.0026 - val_accuracy: 1.0000\n",
            "Epoch 66/150\n",
            "6/6 [==============================] - 0s 5ms/step - loss: 0.0109 - accuracy: 0.9980 - val_loss: 0.0026 - val_accuracy: 1.0000\n",
            "Epoch 67/150\n",
            "6/6 [==============================] - 0s 6ms/step - loss: 0.0055 - accuracy: 1.0000 - val_loss: 0.0025 - val_accuracy: 1.0000\n",
            "Epoch 68/150\n",
            "6/6 [==============================] - 0s 5ms/step - loss: 0.0232 - accuracy: 0.9941 - val_loss: 0.0025 - val_accuracy: 1.0000\n",
            "Epoch 69/150\n",
            "6/6 [==============================] - 0s 9ms/step - loss: 0.0059 - accuracy: 1.0000 - val_loss: 0.0025 - val_accuracy: 1.0000\n",
            "Epoch 70/150\n",
            "6/6 [==============================] - 0s 5ms/step - loss: 0.0055 - accuracy: 1.0000 - val_loss: 0.0025 - val_accuracy: 1.0000\n",
            "Epoch 71/150\n",
            "6/6 [==============================] - 0s 4ms/step - loss: 0.0088 - accuracy: 1.0000 - val_loss: 0.0024 - val_accuracy: 1.0000\n",
            "Epoch 72/150\n",
            "6/6 [==============================] - 0s 5ms/step - loss: 0.0232 - accuracy: 0.9980 - val_loss: 0.0024 - val_accuracy: 1.0000\n",
            "Epoch 73/150\n",
            "6/6 [==============================] - 0s 5ms/step - loss: 0.0202 - accuracy: 0.9941 - val_loss: 0.0024 - val_accuracy: 1.0000\n",
            "Epoch 74/150\n",
            "6/6 [==============================] - 0s 5ms/step - loss: 0.0297 - accuracy: 0.9941 - val_loss: 0.0024 - val_accuracy: 1.0000\n",
            "Epoch 75/150\n",
            "6/6 [==============================] - 0s 5ms/step - loss: 0.0049 - accuracy: 1.0000 - val_loss: 0.0024 - val_accuracy: 1.0000\n",
            "Epoch 76/150\n",
            "6/6 [==============================] - 0s 5ms/step - loss: 0.0132 - accuracy: 0.9980 - val_loss: 0.0024 - val_accuracy: 1.0000\n",
            "Epoch 77/150\n",
            "6/6 [==============================] - 0s 5ms/step - loss: 0.0073 - accuracy: 0.9980 - val_loss: 0.0024 - val_accuracy: 1.0000\n",
            "Epoch 78/150\n",
            "6/6 [==============================] - 0s 5ms/step - loss: 0.0101 - accuracy: 0.9980 - val_loss: 0.0025 - val_accuracy: 1.0000\n",
            "Epoch 79/150\n",
            "6/6 [==============================] - 0s 5ms/step - loss: 0.0056 - accuracy: 1.0000 - val_loss: 0.0025 - val_accuracy: 1.0000\n",
            "Epoch 80/150\n",
            "6/6 [==============================] - 0s 5ms/step - loss: 0.0088 - accuracy: 0.9980 - val_loss: 0.0024 - val_accuracy: 1.0000\n",
            "Epoch 81/150\n",
            "6/6 [==============================] - 0s 6ms/step - loss: 0.0064 - accuracy: 1.0000 - val_loss: 0.0024 - val_accuracy: 1.0000\n",
            "Epoch 82/150\n",
            "6/6 [==============================] - 0s 6ms/step - loss: 0.0059 - accuracy: 1.0000 - val_loss: 0.0024 - val_accuracy: 1.0000\n",
            "Epoch 83/150\n",
            "6/6 [==============================] - 0s 5ms/step - loss: 0.0109 - accuracy: 0.9980 - val_loss: 0.0023 - val_accuracy: 1.0000\n",
            "Epoch 84/150\n",
            "6/6 [==============================] - 0s 5ms/step - loss: 0.0097 - accuracy: 0.9980 - val_loss: 0.0023 - val_accuracy: 1.0000\n",
            "Epoch 85/150\n",
            "6/6 [==============================] - 0s 8ms/step - loss: 0.0431 - accuracy: 0.9941 - val_loss: 0.0023 - val_accuracy: 1.0000\n",
            "Epoch 86/150\n",
            "6/6 [==============================] - 0s 5ms/step - loss: 0.0140 - accuracy: 0.9980 - val_loss: 0.0023 - val_accuracy: 1.0000\n",
            "Epoch 87/150\n",
            "6/6 [==============================] - 0s 5ms/step - loss: 0.0079 - accuracy: 1.0000 - val_loss: 0.0023 - val_accuracy: 1.0000\n",
            "Epoch 88/150\n",
            "6/6 [==============================] - 0s 5ms/step - loss: 0.0059 - accuracy: 1.0000 - val_loss: 0.0022 - val_accuracy: 1.0000\n",
            "Epoch 89/150\n",
            "6/6 [==============================] - 0s 5ms/step - loss: 0.0056 - accuracy: 1.0000 - val_loss: 0.0022 - val_accuracy: 1.0000\n",
            "Epoch 90/150\n",
            "6/6 [==============================] - 0s 5ms/step - loss: 0.0338 - accuracy: 0.9922 - val_loss: 0.0022 - val_accuracy: 1.0000\n",
            "Epoch 91/150\n",
            "6/6 [==============================] - 0s 5ms/step - loss: 0.0053 - accuracy: 1.0000 - val_loss: 0.0022 - val_accuracy: 1.0000\n",
            "Epoch 92/150\n",
            "6/6 [==============================] - 0s 5ms/step - loss: 0.0147 - accuracy: 0.9961 - val_loss: 0.0022 - val_accuracy: 1.0000\n",
            "Epoch 93/150\n",
            "6/6 [==============================] - 0s 5ms/step - loss: 0.0149 - accuracy: 0.9941 - val_loss: 0.0022 - val_accuracy: 1.0000\n",
            "Epoch 94/150\n",
            "6/6 [==============================] - 0s 5ms/step - loss: 0.0258 - accuracy: 0.9941 - val_loss: 0.0022 - val_accuracy: 1.0000\n",
            "Epoch 95/150\n",
            "6/6 [==============================] - 0s 5ms/step - loss: 0.0087 - accuracy: 0.9980 - val_loss: 0.0022 - val_accuracy: 1.0000\n",
            "Epoch 96/150\n",
            "6/6 [==============================] - 0s 6ms/step - loss: 0.0066 - accuracy: 0.9980 - val_loss: 0.0022 - val_accuracy: 1.0000\n",
            "Epoch 97/150\n",
            "6/6 [==============================] - 0s 5ms/step - loss: 0.0164 - accuracy: 0.9980 - val_loss: 0.0022 - val_accuracy: 1.0000\n",
            "Epoch 98/150\n",
            "6/6 [==============================] - 0s 5ms/step - loss: 0.0135 - accuracy: 0.9961 - val_loss: 0.0022 - val_accuracy: 1.0000\n",
            "Epoch 99/150\n",
            "6/6 [==============================] - 0s 5ms/step - loss: 0.0106 - accuracy: 0.9980 - val_loss: 0.0020 - val_accuracy: 1.0000\n",
            "Epoch 100/150\n",
            "6/6 [==============================] - 0s 5ms/step - loss: 0.0068 - accuracy: 0.9980 - val_loss: 0.0020 - val_accuracy: 1.0000\n",
            "Epoch 101/150\n",
            "6/6 [==============================] - 0s 6ms/step - loss: 0.0048 - accuracy: 1.0000 - val_loss: 0.0019 - val_accuracy: 1.0000\n",
            "Epoch 102/150\n",
            "6/6 [==============================] - 0s 5ms/step - loss: 0.0174 - accuracy: 0.9980 - val_loss: 0.0019 - val_accuracy: 1.0000\n",
            "Epoch 103/150\n",
            "6/6 [==============================] - 0s 5ms/step - loss: 0.0097 - accuracy: 0.9980 - val_loss: 0.0020 - val_accuracy: 1.0000\n",
            "Epoch 104/150\n",
            "6/6 [==============================] - 0s 5ms/step - loss: 0.0127 - accuracy: 0.9980 - val_loss: 0.0020 - val_accuracy: 1.0000\n",
            "Epoch 105/150\n",
            "6/6 [==============================] - 0s 5ms/step - loss: 0.0059 - accuracy: 1.0000 - val_loss: 0.0020 - val_accuracy: 1.0000\n",
            "Epoch 106/150\n",
            "6/6 [==============================] - 0s 6ms/step - loss: 0.0048 - accuracy: 1.0000 - val_loss: 0.0020 - val_accuracy: 1.0000\n",
            "Epoch 107/150\n",
            "6/6 [==============================] - 0s 5ms/step - loss: 0.0062 - accuracy: 1.0000 - val_loss: 0.0020 - val_accuracy: 1.0000\n",
            "Epoch 108/150\n",
            "6/6 [==============================] - 0s 5ms/step - loss: 0.0092 - accuracy: 0.9980 - val_loss: 0.0019 - val_accuracy: 1.0000\n",
            "Epoch 109/150\n",
            "6/6 [==============================] - 0s 5ms/step - loss: 0.0080 - accuracy: 0.9980 - val_loss: 0.0019 - val_accuracy: 1.0000\n",
            "Epoch 110/150\n",
            "6/6 [==============================] - 0s 5ms/step - loss: 0.0083 - accuracy: 0.9980 - val_loss: 0.0019 - val_accuracy: 1.0000\n",
            "Epoch 111/150\n",
            "6/6 [==============================] - 0s 5ms/step - loss: 0.0057 - accuracy: 1.0000 - val_loss: 0.0019 - val_accuracy: 1.0000\n",
            "Epoch 112/150\n",
            "6/6 [==============================] - 0s 5ms/step - loss: 0.0041 - accuracy: 1.0000 - val_loss: 0.0018 - val_accuracy: 1.0000\n",
            "Epoch 113/150\n",
            "6/6 [==============================] - 0s 5ms/step - loss: 0.0068 - accuracy: 1.0000 - val_loss: 0.0018 - val_accuracy: 1.0000\n",
            "Epoch 114/150\n",
            "6/6 [==============================] - 0s 5ms/step - loss: 0.0168 - accuracy: 0.9980 - val_loss: 0.0018 - val_accuracy: 1.0000\n",
            "Epoch 115/150\n",
            "6/6 [==============================] - 0s 5ms/step - loss: 0.0222 - accuracy: 0.9961 - val_loss: 0.0018 - val_accuracy: 1.0000\n",
            "Epoch 116/150\n",
            "6/6 [==============================] - 0s 5ms/step - loss: 0.0100 - accuracy: 0.9980 - val_loss: 0.0018 - val_accuracy: 1.0000\n",
            "Epoch 117/150\n",
            "6/6 [==============================] - 0s 6ms/step - loss: 0.0167 - accuracy: 0.9980 - val_loss: 0.0019 - val_accuracy: 1.0000\n",
            "Epoch 118/150\n",
            "6/6 [==============================] - 0s 5ms/step - loss: 0.0156 - accuracy: 0.9961 - val_loss: 0.0019 - val_accuracy: 1.0000\n",
            "Epoch 119/150\n",
            "6/6 [==============================] - 0s 5ms/step - loss: 0.0097 - accuracy: 0.9961 - val_loss: 0.0019 - val_accuracy: 1.0000\n",
            "Epoch 120/150\n",
            "6/6 [==============================] - 0s 5ms/step - loss: 0.0051 - accuracy: 1.0000 - val_loss: 0.0019 - val_accuracy: 1.0000\n",
            "Epoch 121/150\n",
            "6/6 [==============================] - 0s 5ms/step - loss: 0.0047 - accuracy: 1.0000 - val_loss: 0.0018 - val_accuracy: 1.0000\n",
            "Epoch 122/150\n",
            "6/6 [==============================] - 0s 5ms/step - loss: 0.0059 - accuracy: 0.9980 - val_loss: 0.0018 - val_accuracy: 1.0000\n",
            "Epoch 123/150\n",
            "6/6 [==============================] - 0s 5ms/step - loss: 0.0042 - accuracy: 1.0000 - val_loss: 0.0018 - val_accuracy: 1.0000\n",
            "Epoch 124/150\n",
            "6/6 [==============================] - 0s 6ms/step - loss: 0.0069 - accuracy: 0.9980 - val_loss: 0.0017 - val_accuracy: 1.0000\n",
            "Epoch 125/150\n",
            "6/6 [==============================] - 0s 5ms/step - loss: 0.0170 - accuracy: 0.9980 - val_loss: 0.0017 - val_accuracy: 1.0000\n",
            "Epoch 126/150\n",
            "6/6 [==============================] - 0s 5ms/step - loss: 0.0046 - accuracy: 1.0000 - val_loss: 0.0017 - val_accuracy: 1.0000\n",
            "Epoch 127/150\n",
            "6/6 [==============================] - 0s 5ms/step - loss: 0.0087 - accuracy: 0.9980 - val_loss: 0.0017 - val_accuracy: 1.0000\n",
            "Epoch 128/150\n",
            "6/6 [==============================] - 0s 4ms/step - loss: 0.0034 - accuracy: 1.0000 - val_loss: 0.0016 - val_accuracy: 1.0000\n",
            "Epoch 129/150\n",
            "6/6 [==============================] - 0s 5ms/step - loss: 0.0144 - accuracy: 0.9980 - val_loss: 0.0016 - val_accuracy: 1.0000\n",
            "Epoch 130/150\n",
            "6/6 [==============================] - 0s 5ms/step - loss: 0.0046 - accuracy: 1.0000 - val_loss: 0.0016 - val_accuracy: 1.0000\n",
            "Epoch 131/150\n",
            "6/6 [==============================] - 0s 4ms/step - loss: 0.0040 - accuracy: 1.0000 - val_loss: 0.0015 - val_accuracy: 1.0000\n",
            "Epoch 132/150\n",
            "6/6 [==============================] - 0s 5ms/step - loss: 0.0088 - accuracy: 0.9980 - val_loss: 0.0015 - val_accuracy: 1.0000\n",
            "Epoch 133/150\n",
            "6/6 [==============================] - 0s 5ms/step - loss: 0.0038 - accuracy: 1.0000 - val_loss: 0.0016 - val_accuracy: 1.0000\n",
            "Epoch 134/150\n",
            "6/6 [==============================] - 0s 4ms/step - loss: 0.0139 - accuracy: 0.9980 - val_loss: 0.0018 - val_accuracy: 1.0000\n",
            "Epoch 135/150\n",
            "6/6 [==============================] - 0s 8ms/step - loss: 0.0115 - accuracy: 0.9980 - val_loss: 0.0019 - val_accuracy: 1.0000\n",
            "Epoch 136/150\n",
            "6/6 [==============================] - 0s 5ms/step - loss: 0.0051 - accuracy: 1.0000 - val_loss: 0.0018 - val_accuracy: 1.0000\n",
            "Epoch 137/150\n",
            "6/6 [==============================] - 0s 4ms/step - loss: 0.0041 - accuracy: 1.0000 - val_loss: 0.0017 - val_accuracy: 1.0000\n",
            "Epoch 138/150\n",
            "6/6 [==============================] - 0s 9ms/step - loss: 0.0048 - accuracy: 1.0000 - val_loss: 0.0016 - val_accuracy: 1.0000\n",
            "Epoch 139/150\n",
            "6/6 [==============================] - 0s 5ms/step - loss: 0.0175 - accuracy: 0.9980 - val_loss: 0.0016 - val_accuracy: 1.0000\n",
            "Epoch 140/150\n",
            "6/6 [==============================] - 0s 10ms/step - loss: 0.0037 - accuracy: 1.0000 - val_loss: 0.0016 - val_accuracy: 1.0000\n",
            "Epoch 141/150\n",
            "6/6 [==============================] - 0s 5ms/step - loss: 0.0106 - accuracy: 0.9941 - val_loss: 0.0015 - val_accuracy: 1.0000\n",
            "Epoch 142/150\n",
            "6/6 [==============================] - 0s 6ms/step - loss: 0.0073 - accuracy: 0.9980 - val_loss: 0.0015 - val_accuracy: 1.0000\n",
            "Epoch 143/150\n",
            "6/6 [==============================] - 0s 5ms/step - loss: 0.0039 - accuracy: 1.0000 - val_loss: 0.0015 - val_accuracy: 1.0000\n",
            "Epoch 144/150\n",
            "6/6 [==============================] - 0s 5ms/step - loss: 0.0161 - accuracy: 0.9961 - val_loss: 0.0015 - val_accuracy: 1.0000\n",
            "Epoch 145/150\n",
            "6/6 [==============================] - 0s 6ms/step - loss: 0.0037 - accuracy: 1.0000 - val_loss: 0.0015 - val_accuracy: 1.0000\n",
            "Epoch 146/150\n",
            "6/6 [==============================] - 0s 5ms/step - loss: 0.0083 - accuracy: 0.9961 - val_loss: 0.0015 - val_accuracy: 1.0000\n",
            "Epoch 147/150\n",
            "6/6 [==============================] - 0s 6ms/step - loss: 0.0046 - accuracy: 1.0000 - val_loss: 0.0015 - val_accuracy: 1.0000\n",
            "Epoch 148/150\n",
            "6/6 [==============================] - 0s 5ms/step - loss: 0.0075 - accuracy: 0.9980 - val_loss: 0.0015 - val_accuracy: 1.0000\n",
            "Epoch 149/150\n",
            "6/6 [==============================] - 0s 6ms/step - loss: 0.0088 - accuracy: 0.9961 - val_loss: 0.0015 - val_accuracy: 1.0000\n",
            "Epoch 150/150\n",
            "6/6 [==============================] - 0s 5ms/step - loss: 0.0045 - accuracy: 1.0000 - val_loss: 0.0015 - val_accuracy: 1.0000\n"
          ]
        }
      ]
    },
    {
      "cell_type": "code",
      "source": [
        "%matplotlib inline\n",
        "import matplotlib.pyplot as plt\n",
        "\n",
        "acc = history.history['accuracy']\n",
        "val_acc = history.history['val_accuracy']\n",
        "# fixed accuracy at argument\n",
        "loss = history.history['loss']\n",
        "val_loss = history.history['val_loss']\n",
        "\n",
        "epochs = range(1, len(acc)+1)\n",
        "\n",
        "plt.plot(epochs, acc, 'bo', label='Training accuracy')\n",
        "plt.plot(epochs, val_acc, 'b', label = 'Validation accuracy')\n",
        "plt.title('Validation and training accuracy')\n",
        "plt.legend()\n",
        "\n",
        "plt.figure()\n",
        "\n",
        "plt.plot(epochs, loss, 'bo', label='Training loss')\n",
        "plt.plot(epochs, val_loss, 'b', label='Validation loss')\n",
        "plt.title('Training and validation loss')\n",
        "plt.legend()\n",
        "plt.show()"
      ],
      "metadata": {
        "id": "8LTzFL4VuFYI",
        "outputId": "bd5ebab4-902a-4625-f535-89afce95259b",
        "colab": {
          "base_uri": "https://localhost:8080/",
          "height": 545
        }
      },
      "execution_count": 33,
      "outputs": [
        {
          "output_type": "display_data",
          "data": {
            "text/plain": [
              "<Figure size 432x288 with 1 Axes>"
            ],
            "image/png": "[encoded data removed]"
          },
          "metadata": {
            "needs_background": "light"
          }
        },
        {
          "output_type": "display_data",
          "data": {
            "text/plain": [
              "<Figure size 432x288 with 1 Axes>"
            ],
            "image/png": "[encoded data removed]"
          },
          "metadata": {
            "needs_background": "light"
          }
        }
      ]
    },
    {
      "cell_type": "code",
      "source": [
        "# Predicting the Test set results\n",
        "y_pred = network.predict(X_test)\n",
        "y_pred = (y_pred > 0.5)"
      ],
      "metadata": {
        "id": "McNm6YjwwKp6",
        "outputId": "c0af95d6-684f-4e35-bec8-d119da2b9e98",
        "colab": {
          "base_uri": "https://localhost:8080/"
        }
      },
      "execution_count": 34,
      "outputs": [
        {
          "output_type": "stream",
          "name": "stdout",
          "text": [
            "2/2 [==============================] - 0s 4ms/step\n"
          ]
        }
      ]
    },
    {
      "cell_type": "code",
      "source": [
        "from sklearn.metrics import confusion_matrix\n",
        "cm = confusion_matrix(y_test, y_pred)"
      ],
      "metadata": {
        "id": "TipjJszuwPzb"
      },
      "execution_count": 35,
      "outputs": []
    },
    {
      "cell_type": "code",
      "source": [
        "print(\"Our accuracy is {}%\".format(((cm[0][0] + cm[1][1])/57)*100))"
      ],
      "metadata": {
        "id": "0OLYMZLCwSS4",
        "outputId": "ed2b5d8c-a5b2-42b2-b374-9b608bf11f17",
        "colab": {
          "base_uri": "https://localhost:8080/"
        }
      },
      "execution_count": 36,
      "outputs": [
        {
          "output_type": "stream",
          "name": "stdout",
          "text": [
            "Our accuracy is 100.0%\n"
          ]
        }
      ]
    },
    {
      "cell_type": "code",
      "source": [
        "import seaborn as sns\n",
        "sns.heatmap(cm,annot=True)"
      ],
      "metadata": {
        "id": "jkKi_B5HwZ3e",
        "outputId": "389de2b9-4859-4693-8372-c40f17f876d2",
        "colab": {
          "base_uri": "https://localhost:8080/",
          "height": 287
        }
      },
      "execution_count": 37,
      "outputs": [
        {
          "output_type": "execute_result",
          "data": {
            "text/plain": [
              "<matplotlib.axes._subplots.AxesSubplot at 0x7fdf40c2ac40>"
            ]
          },
          "metadata": {},
          "execution_count": 37
        },
        {
          "output_type": "display_data",
          "data": {
            "text/plain": [
              "<Figure size 432x288 with 2 Axes>"
            ],
            "image/png": "[encoded data removed]"
          },
          "metadata": {
            "needs_background": "light"
          }
        }
      ]
    }
  ]
}