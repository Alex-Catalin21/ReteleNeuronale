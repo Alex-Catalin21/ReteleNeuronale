{
  "nbformat": 4,
  "nbformat_minor": 0,
  "metadata": {
    "colab": {
      "provenance": [],
      "authorship_tag": "ABX9TyNBn6jPol0JzcgoJuX0D0i5",
      "include_colab_link": true
    },
    "kernelspec": {
      "name": "python3",
      "display_name": "Python 3"
    },
    "language_info": {
      "name": "python"
    }
  },
  "cells": [
    {
      "cell_type": "markdown",
      "metadata": {
        "id": "view-in-github",
        "colab_type": "text"
      },
      "source": [
        "<a href=\"https://colab.research.google.com/github/Alex-Catalin21/ReteleNeuronale/blob/main/Untitled0.ipynb\" target=\"_parent\"><img src=\"https://colab.research.google.com/assets/colab-badge.svg\" alt=\"Open In Colab\"/></a>"
      ]
    },
    {
      "cell_type": "code",
      "execution_count": null,
      "metadata": {
        "id": "rytAFDwoYvR-"
      },
      "outputs": [],
      "source": [
        "import pandas as pd\n",
        "import numpy as np\n",
        "import matplotlib.pyplot as plt\n",
        "import seaborn as sns"
      ]
    },
    {
      "cell_type": "code",
      "source": [],
      "metadata": {
        "colab": {
          "base_uri": "https://localhost:8080/"
        },
        "id": "zw6vGxBRgIIy",
        "outputId": "341f64f0-b037-424b-f1a0-7a2bf4832f24"
      },
      "execution_count": null,
      "outputs": [
        {
          "output_type": "stream",
          "name": "stdout",
          "text": [
            "[[842302 'M' 17.99 ... 0.4601 0.1189 nan]\n",
            " [842517 'M' 20.57 ... 0.275 0.08902 nan]\n",
            " [84300903 'M' 19.69 ... 0.3613 0.08758 nan]\n",
            " ...\n",
            " [926954 'M' 16.6 ... 0.2218 0.0782 nan]\n",
            " [927241 'M' 20.6 ... 0.4087 0.124 nan]\n",
            " [92751 'B' 7.76 ... 0.2871 0.07039 nan]]\n"
          ]
        }
      ]
    }
  ]
}