{
  "nbformat": 4,
  "nbformat_minor": 0,
  "metadata": {
    "colab": {
      "provenance": [],
      "include_colab_link": true
    },
    "kernelspec": {
      "name": "python3",
      "display_name": "Python 3"
    },
    "language_info": {
      "name": "python"
    }
  },
  "cells": [
    {
      "cell_type": "markdown",
      "metadata": {
        "id": "view-in-github",
        "colab_type": "text"
      },
      "source": [
        "<a href=\"https://colab.research.google.com/github/Alex-Catalin21/ReteleNeuronale/blob/main/Proiect_RN_Dynamic_Duo_fara_Dropout.ipynb\" target=\"_parent\"><img src=\"https://colab.research.google.com/assets/colab-badge.svg\" alt=\"Open In Colab\"/></a>"
      ]
    },
    {
      "cell_type": "code",
      "execution_count": 1,
      "metadata": {
        "id": "33ARQIw2MM5r"
      },
      "outputs": [],
      "source": [
        "import pandas as pd\n",
        "url = 'https://raw.githubusercontent.com/Alex-Catalin21/ReteleNeuronale/main/data_cancer.csv'\n",
        "data = pd.read_csv(url)\n",
        "del data['Unnamed: 32']\n"
      ]
    },
    {
      "cell_type": "code",
      "source": [
        "data.columns"
      ],
      "metadata": {
        "colab": {
          "base_uri": "https://localhost:8080/"
        },
        "id": "LbSrK0t4qPKi",
        "outputId": "c2babc0d-d22e-4fc1-a4ce-10ec51f0cfdf"
      },
      "execution_count": 2,
      "outputs": [
        {
          "output_type": "execute_result",
          "data": {
            "text/plain": [
              "Index(['id', 'diagnosis', 'radius_mean', 'texture_mean', 'perimeter_mean',\n",
              "       'area_mean', 'smoothness_mean', 'compactness_mean', 'concavity_mean',\n",
              "       'concave points_mean', 'symmetry_mean', 'fractal_dimension_mean',\n",
              "       'radius_se', 'texture_se', 'perimeter_se', 'area_se', 'smoothness_se',\n",
              "       'compactness_se', 'concavity_se', 'concave points_se', 'symmetry_se',\n",
              "       'fractal_dimension_se', 'radius_worst', 'texture_worst',\n",
              "       'perimeter_worst', 'area_worst', 'smoothness_worst',\n",
              "       'compactness_worst', 'concavity_worst', 'concave points_worst',\n",
              "       'symmetry_worst', 'fractal_dimension_worst'],\n",
              "      dtype='object')"
            ]
          },
          "metadata": {},
          "execution_count": 2
        }
      ]
    },
    {
      "cell_type": "code",
      "source": [
        "x = data.iloc[:, 2:].values\n",
        "y = data.iloc[:, 1].values\n",
        "\n",
        "# Encoding categorical data\n",
        "from sklearn.preprocessing import LabelEncoder\n",
        "\n",
        "labelencoder_X_1 = LabelEncoder()\n",
        "y = labelencoder_X_1.fit_transform(y)\n",
        "\n",
        "# Splitting the dataset into the Training set and Test set\n",
        "from sklearn.model_selection import train_test_split\n",
        "X_train, X_test, y_train, y_test = train_test_split(x, y, test_size=0.1, random_state=0)\n",
        "\n",
        "# Feature Scaling\n",
        "from sklearn.preprocessing import StandardScaler\n",
        "sc = StandardScaler()\n",
        "X_train = sc.fit_transform(X_train)\n",
        "X_test = sc.transform(X_test)"
      ],
      "metadata": {
        "id": "vgOGINaKrwNh"
      },
      "execution_count": 4,
      "outputs": []
    },
    {
      "cell_type": "code",
      "source": [
        "import keras\n",
        "from keras import layers \n",
        "from keras import models \n",
        "network = models.Sequential()"
      ],
      "metadata": {
        "id": "VfbCLiq9sDGt"
      },
      "execution_count": 53,
      "outputs": []
    },
    {
      "cell_type": "code",
      "source": [
        "# input layer and the first hidden layer\n",
        "network.add(layers.Dense(16,activation='relu', input_dim=30))\n",
        "# Adding dropout to prevent overfitting\n",
        "#network.add(layers.Dropout(rate=0.1))"
      ],
      "metadata": {
        "id": "-1ukhyKOsD-f"
      },
      "execution_count": 54,
      "outputs": []
    },
    {
      "cell_type": "code",
      "source": [
        "# Adding the second hidden layer\n",
        "network.add(layers.Dense(16,activation='relu'))\n",
        "# Adding dropout to prevent overfitting\n",
        "#network.add(layers.Dropout(rate=0.1))"
      ],
      "metadata": {
        "id": "TTUNNVyxs4Ww"
      },
      "execution_count": 55,
      "outputs": []
    },
    {
      "cell_type": "code",
      "source": [
        "# Adding the output layer\n",
        "network.add(layers.Dense(1, activation='sigmoid'))"
      ],
      "metadata": {
        "id": "X1Gx3dVztD9e"
      },
      "execution_count": 56,
      "outputs": []
    },
    {
      "cell_type": "code",
      "source": [
        "X_train.shape, y_train.shape"
      ],
      "metadata": {
        "colab": {
          "base_uri": "https://localhost:8080/"
        },
        "id": "d2JyGX83tQOH",
        "outputId": "6f9e58d7-251e-48b8-c59b-e405a891aa08"
      },
      "execution_count": 57,
      "outputs": [
        {
          "output_type": "execute_result",
          "data": {
            "text/plain": [
              "((512, 30), (512,))"
            ]
          },
          "metadata": {},
          "execution_count": 57
        }
      ]
    },
    {
      "cell_type": "code",
      "source": [
        "X_test.shape, y_test.shape"
      ],
      "metadata": {
        "colab": {
          "base_uri": "https://localhost:8080/"
        },
        "id": "Hx_SRtqxti28",
        "outputId": "160f71d9-15f7-4dfc-8471-a1b4248cece2"
      },
      "execution_count": 58,
      "outputs": [
        {
          "output_type": "execute_result",
          "data": {
            "text/plain": [
              "((57, 30), (57,))"
            ]
          },
          "metadata": {},
          "execution_count": 58
        }
      ]
    },
    {
      "cell_type": "code",
      "source": [
        "# Compiling the ANN\n",
        "network.compile(optimizer='adam', loss='binary_crossentropy',metrics=['accuracy'])"
      ],
      "metadata": {
        "id": "WezH5MA4t2sT"
      },
      "execution_count": 59,
      "outputs": []
    },
    {
      "cell_type": "code",
      "source": [
        "# Fitting the ANN to the Training set\n",
        "network.fit(X_train, y_train, batch_size=100, epochs=100)\n",
        "# The batch siez and number of epochs have been set using trial and error"
      ],
      "metadata": {
        "colab": {
          "base_uri": "https://localhost:8080/"
        },
        "id": "DfG5nUHtt6GD",
        "outputId": "666e5ad9-b67f-4d5c-ace7-9fbad5a52653"
      },
      "execution_count": 60,
      "outputs": [
        {
          "output_type": "stream",
          "name": "stdout",
          "text": [
            "Epoch 1/100\n",
            "6/6 [==============================] - 0s 2ms/step - loss: 0.6021 - accuracy: 0.6738\n",
            "Epoch 2/100\n",
            "6/6 [==============================] - 0s 2ms/step - loss: 0.5243 - accuracy: 0.7930\n",
            "Epoch 3/100\n",
            "6/6 [==============================] - 0s 2ms/step - loss: 0.4660 - accuracy: 0.8438\n",
            "Epoch 4/100\n",
            "6/6 [==============================] - 0s 2ms/step - loss: 0.4186 - accuracy: 0.8711\n",
            "Epoch 5/100\n",
            "6/6 [==============================] - 0s 2ms/step - loss: 0.3804 - accuracy: 0.8887\n",
            "Epoch 6/100\n",
            "6/6 [==============================] - 0s 2ms/step - loss: 0.3481 - accuracy: 0.9062\n",
            "Epoch 7/100\n",
            "6/6 [==============================] - 0s 2ms/step - loss: 0.3206 - accuracy: 0.9160\n",
            "Epoch 8/100\n",
            "6/6 [==============================] - 0s 2ms/step - loss: 0.2965 - accuracy: 0.9199\n",
            "Epoch 9/100\n",
            "6/6 [==============================] - 0s 1ms/step - loss: 0.2755 - accuracy: 0.9258\n",
            "Epoch 10/100\n",
            "6/6 [==============================] - 0s 2ms/step - loss: 0.2575 - accuracy: 0.9277\n",
            "Epoch 11/100\n",
            "6/6 [==============================] - 0s 2ms/step - loss: 0.2411 - accuracy: 0.9277\n",
            "Epoch 12/100\n",
            "6/6 [==============================] - 0s 3ms/step - loss: 0.2270 - accuracy: 0.9316\n",
            "Epoch 13/100\n",
            "6/6 [==============================] - 0s 2ms/step - loss: 0.2141 - accuracy: 0.9336\n",
            "Epoch 14/100\n",
            "6/6 [==============================] - 0s 2ms/step - loss: 0.2025 - accuracy: 0.9395\n",
            "Epoch 15/100\n",
            "6/6 [==============================] - 0s 2ms/step - loss: 0.1916 - accuracy: 0.9414\n",
            "Epoch 16/100\n",
            "6/6 [==============================] - 0s 2ms/step - loss: 0.1824 - accuracy: 0.9434\n",
            "Epoch 17/100\n",
            "6/6 [==============================] - 0s 2ms/step - loss: 0.1739 - accuracy: 0.9453\n",
            "Epoch 18/100\n",
            "6/6 [==============================] - 0s 2ms/step - loss: 0.1661 - accuracy: 0.9473\n",
            "Epoch 19/100\n",
            "6/6 [==============================] - 0s 2ms/step - loss: 0.1590 - accuracy: 0.9512\n",
            "Epoch 20/100\n",
            "6/6 [==============================] - 0s 2ms/step - loss: 0.1527 - accuracy: 0.9551\n",
            "Epoch 21/100\n",
            "6/6 [==============================] - 0s 2ms/step - loss: 0.1470 - accuracy: 0.9531\n",
            "Epoch 22/100\n",
            "6/6 [==============================] - 0s 2ms/step - loss: 0.1415 - accuracy: 0.9531\n",
            "Epoch 23/100\n",
            "6/6 [==============================] - 0s 2ms/step - loss: 0.1363 - accuracy: 0.9531\n",
            "Epoch 24/100\n",
            "6/6 [==============================] - 0s 2ms/step - loss: 0.1315 - accuracy: 0.9531\n",
            "Epoch 25/100\n",
            "6/6 [==============================] - 0s 2ms/step - loss: 0.1271 - accuracy: 0.9531\n",
            "Epoch 26/100\n",
            "6/6 [==============================] - 0s 3ms/step - loss: 0.1230 - accuracy: 0.9531\n",
            "Epoch 27/100\n",
            "6/6 [==============================] - 0s 2ms/step - loss: 0.1190 - accuracy: 0.9570\n",
            "Epoch 28/100\n",
            "6/6 [==============================] - 0s 2ms/step - loss: 0.1154 - accuracy: 0.9570\n",
            "Epoch 29/100\n",
            "6/6 [==============================] - 0s 2ms/step - loss: 0.1119 - accuracy: 0.9590\n",
            "Epoch 30/100\n",
            "6/6 [==============================] - 0s 2ms/step - loss: 0.1088 - accuracy: 0.9609\n",
            "Epoch 31/100\n",
            "6/6 [==============================] - 0s 2ms/step - loss: 0.1056 - accuracy: 0.9629\n",
            "Epoch 32/100\n",
            "6/6 [==============================] - 0s 2ms/step - loss: 0.1029 - accuracy: 0.9648\n",
            "Epoch 33/100\n",
            "6/6 [==============================] - 0s 2ms/step - loss: 0.1005 - accuracy: 0.9668\n",
            "Epoch 34/100\n",
            "6/6 [==============================] - 0s 2ms/step - loss: 0.0979 - accuracy: 0.9668\n",
            "Epoch 35/100\n",
            "6/6 [==============================] - 0s 3ms/step - loss: 0.0958 - accuracy: 0.9668\n",
            "Epoch 36/100\n",
            "6/6 [==============================] - 0s 2ms/step - loss: 0.0936 - accuracy: 0.9688\n",
            "Epoch 37/100\n",
            "6/6 [==============================] - 0s 2ms/step - loss: 0.0915 - accuracy: 0.9688\n",
            "Epoch 38/100\n",
            "6/6 [==============================] - 0s 2ms/step - loss: 0.0897 - accuracy: 0.9688\n",
            "Epoch 39/100\n",
            "6/6 [==============================] - 0s 2ms/step - loss: 0.0877 - accuracy: 0.9707\n",
            "Epoch 40/100\n",
            "6/6 [==============================] - 0s 2ms/step - loss: 0.0859 - accuracy: 0.9746\n",
            "Epoch 41/100\n",
            "6/6 [==============================] - 0s 2ms/step - loss: 0.0842 - accuracy: 0.9746\n",
            "Epoch 42/100\n",
            "6/6 [==============================] - 0s 2ms/step - loss: 0.0826 - accuracy: 0.9766\n",
            "Epoch 43/100\n",
            "6/6 [==============================] - 0s 3ms/step - loss: 0.0809 - accuracy: 0.9766\n",
            "Epoch 44/100\n",
            "6/6 [==============================] - 0s 2ms/step - loss: 0.0791 - accuracy: 0.9766\n",
            "Epoch 45/100\n",
            "6/6 [==============================] - 0s 2ms/step - loss: 0.0775 - accuracy: 0.9766\n",
            "Epoch 46/100\n",
            "6/6 [==============================] - 0s 2ms/step - loss: 0.0758 - accuracy: 0.9766\n",
            "Epoch 47/100\n",
            "6/6 [==============================] - 0s 2ms/step - loss: 0.0742 - accuracy: 0.9766\n",
            "Epoch 48/100\n",
            "6/6 [==============================] - 0s 2ms/step - loss: 0.0729 - accuracy: 0.9766\n",
            "Epoch 49/100\n",
            "6/6 [==============================] - 0s 3ms/step - loss: 0.0717 - accuracy: 0.9766\n",
            "Epoch 50/100\n",
            "6/6 [==============================] - 0s 2ms/step - loss: 0.0703 - accuracy: 0.9785\n",
            "Epoch 51/100\n",
            "6/6 [==============================] - 0s 2ms/step - loss: 0.0692 - accuracy: 0.9785\n",
            "Epoch 52/100\n",
            "6/6 [==============================] - 0s 2ms/step - loss: 0.0681 - accuracy: 0.9785\n",
            "Epoch 53/100\n",
            "6/6 [==============================] - 0s 2ms/step - loss: 0.0670 - accuracy: 0.9805\n",
            "Epoch 54/100\n",
            "6/6 [==============================] - 0s 2ms/step - loss: 0.0660 - accuracy: 0.9805\n",
            "Epoch 55/100\n",
            "6/6 [==============================] - 0s 2ms/step - loss: 0.0650 - accuracy: 0.9824\n",
            "Epoch 56/100\n",
            "6/6 [==============================] - 0s 2ms/step - loss: 0.0640 - accuracy: 0.9863\n",
            "Epoch 57/100\n",
            "6/6 [==============================] - 0s 2ms/step - loss: 0.0631 - accuracy: 0.9844\n",
            "Epoch 58/100\n",
            "6/6 [==============================] - 0s 2ms/step - loss: 0.0622 - accuracy: 0.9844\n",
            "Epoch 59/100\n",
            "6/6 [==============================] - 0s 2ms/step - loss: 0.0614 - accuracy: 0.9863\n",
            "Epoch 60/100\n",
            "6/6 [==============================] - 0s 2ms/step - loss: 0.0606 - accuracy: 0.9863\n",
            "Epoch 61/100\n",
            "6/6 [==============================] - 0s 2ms/step - loss: 0.0595 - accuracy: 0.9863\n",
            "Epoch 62/100\n",
            "6/6 [==============================] - 0s 2ms/step - loss: 0.0588 - accuracy: 0.9863\n",
            "Epoch 63/100\n",
            "6/6 [==============================] - 0s 2ms/step - loss: 0.0580 - accuracy: 0.9863\n",
            "Epoch 64/100\n",
            "6/6 [==============================] - 0s 2ms/step - loss: 0.0571 - accuracy: 0.9863\n",
            "Epoch 65/100\n",
            "6/6 [==============================] - 0s 2ms/step - loss: 0.0565 - accuracy: 0.9863\n",
            "Epoch 66/100\n",
            "6/6 [==============================] - 0s 2ms/step - loss: 0.0560 - accuracy: 0.9863\n",
            "Epoch 67/100\n",
            "6/6 [==============================] - 0s 2ms/step - loss: 0.0552 - accuracy: 0.9863\n",
            "Epoch 68/100\n",
            "6/6 [==============================] - 0s 2ms/step - loss: 0.0545 - accuracy: 0.9863\n",
            "Epoch 69/100\n",
            "6/6 [==============================] - 0s 2ms/step - loss: 0.0540 - accuracy: 0.9863\n",
            "Epoch 70/100\n",
            "6/6 [==============================] - 0s 2ms/step - loss: 0.0534 - accuracy: 0.9883\n",
            "Epoch 71/100\n",
            "6/6 [==============================] - 0s 2ms/step - loss: 0.0528 - accuracy: 0.9883\n",
            "Epoch 72/100\n",
            "6/6 [==============================] - 0s 2ms/step - loss: 0.0522 - accuracy: 0.9883\n",
            "Epoch 73/100\n",
            "6/6 [==============================] - 0s 2ms/step - loss: 0.0516 - accuracy: 0.9883\n",
            "Epoch 74/100\n",
            "6/6 [==============================] - 0s 2ms/step - loss: 0.0511 - accuracy: 0.9883\n",
            "Epoch 75/100\n",
            "6/6 [==============================] - 0s 2ms/step - loss: 0.0505 - accuracy: 0.9883\n",
            "Epoch 76/100\n",
            "6/6 [==============================] - 0s 2ms/step - loss: 0.0500 - accuracy: 0.9883\n",
            "Epoch 77/100\n",
            "6/6 [==============================] - 0s 2ms/step - loss: 0.0495 - accuracy: 0.9883\n",
            "Epoch 78/100\n",
            "6/6 [==============================] - 0s 2ms/step - loss: 0.0490 - accuracy: 0.9883\n",
            "Epoch 79/100\n",
            "6/6 [==============================] - 0s 2ms/step - loss: 0.0486 - accuracy: 0.9883\n",
            "Epoch 80/100\n",
            "6/6 [==============================] - 0s 2ms/step - loss: 0.0482 - accuracy: 0.9883\n",
            "Epoch 81/100\n",
            "6/6 [==============================] - 0s 2ms/step - loss: 0.0477 - accuracy: 0.9883\n",
            "Epoch 82/100\n",
            "6/6 [==============================] - 0s 2ms/step - loss: 0.0473 - accuracy: 0.9883\n",
            "Epoch 83/100\n",
            "6/6 [==============================] - 0s 2ms/step - loss: 0.0469 - accuracy: 0.9883\n",
            "Epoch 84/100\n",
            "6/6 [==============================] - 0s 2ms/step - loss: 0.0466 - accuracy: 0.9883\n",
            "Epoch 85/100\n",
            "6/6 [==============================] - 0s 3ms/step - loss: 0.0461 - accuracy: 0.9883\n",
            "Epoch 86/100\n",
            "6/6 [==============================] - 0s 2ms/step - loss: 0.0457 - accuracy: 0.9902\n",
            "Epoch 87/100\n",
            "6/6 [==============================] - 0s 2ms/step - loss: 0.0451 - accuracy: 0.9902\n",
            "Epoch 88/100\n",
            "6/6 [==============================] - 0s 2ms/step - loss: 0.0447 - accuracy: 0.9902\n",
            "Epoch 89/100\n",
            "6/6 [==============================] - 0s 3ms/step - loss: 0.0442 - accuracy: 0.9902\n",
            "Epoch 90/100\n",
            "6/6 [==============================] - 0s 2ms/step - loss: 0.0438 - accuracy: 0.9902\n",
            "Epoch 91/100\n",
            "6/6 [==============================] - 0s 2ms/step - loss: 0.0435 - accuracy: 0.9902\n",
            "Epoch 92/100\n",
            "6/6 [==============================] - 0s 2ms/step - loss: 0.0433 - accuracy: 0.9902\n",
            "Epoch 93/100\n",
            "6/6 [==============================] - 0s 2ms/step - loss: 0.0430 - accuracy: 0.9902\n",
            "Epoch 94/100\n",
            "6/6 [==============================] - 0s 2ms/step - loss: 0.0426 - accuracy: 0.9902\n",
            "Epoch 95/100\n",
            "6/6 [==============================] - 0s 2ms/step - loss: 0.0424 - accuracy: 0.9902\n",
            "Epoch 96/100\n",
            "6/6 [==============================] - 0s 3ms/step - loss: 0.0418 - accuracy: 0.9922\n",
            "Epoch 97/100\n",
            "6/6 [==============================] - 0s 2ms/step - loss: 0.0414 - accuracy: 0.9922\n",
            "Epoch 98/100\n",
            "6/6 [==============================] - 0s 2ms/step - loss: 0.0409 - accuracy: 0.9922\n",
            "Epoch 99/100\n",
            "6/6 [==============================] - 0s 2ms/step - loss: 0.0405 - accuracy: 0.9922\n",
            "Epoch 100/100\n",
            "6/6 [==============================] - 0s 2ms/step - loss: 0.0400 - accuracy: 0.9922\n"
          ]
        },
        {
          "output_type": "execute_result",
          "data": {
            "text/plain": [
              "<keras.callbacks.History at 0x7fdf40e1a850>"
            ]
          },
          "metadata": {},
          "execution_count": 60
        }
      ]
    },
    {
      "cell_type": "code",
      "source": [
        "history = network.fit(X_train, y_train,\n",
        "            validation_data=(X_test, y_test),\n",
        "            epochs=100,batch_size=100)\n",
        "# fixed history"
      ],
      "metadata": {
        "colab": {
          "base_uri": "https://localhost:8080/"
        },
        "id": "Oc-2Cx8VuQ1f",
        "outputId": "a9d12a9f-5d97-4559-c64c-3a5ee31fe1a1"
      },
      "execution_count": 61,
      "outputs": [
        {
          "output_type": "stream",
          "name": "stdout",
          "text": [
            "Epoch 1/100\n",
            "6/6 [==============================] - 0s 24ms/step - loss: 0.0397 - accuracy: 0.9922 - val_loss: 0.0433 - val_accuracy: 0.9825\n",
            "Epoch 2/100\n",
            "6/6 [==============================] - 0s 4ms/step - loss: 0.0394 - accuracy: 0.9922 - val_loss: 0.0429 - val_accuracy: 0.9825\n",
            "Epoch 3/100\n",
            "6/6 [==============================] - 0s 5ms/step - loss: 0.0391 - accuracy: 0.9922 - val_loss: 0.0427 - val_accuracy: 0.9825\n",
            "Epoch 4/100\n",
            "6/6 [==============================] - 0s 5ms/step - loss: 0.0387 - accuracy: 0.9922 - val_loss: 0.0428 - val_accuracy: 0.9825\n",
            "Epoch 5/100\n",
            "6/6 [==============================] - 0s 5ms/step - loss: 0.0384 - accuracy: 0.9922 - val_loss: 0.0428 - val_accuracy: 0.9825\n",
            "Epoch 6/100\n",
            "6/6 [==============================] - 0s 4ms/step - loss: 0.0381 - accuracy: 0.9922 - val_loss: 0.0432 - val_accuracy: 0.9825\n",
            "Epoch 7/100\n",
            "6/6 [==============================] - 0s 4ms/step - loss: 0.0376 - accuracy: 0.9922 - val_loss: 0.0438 - val_accuracy: 0.9825\n",
            "Epoch 8/100\n",
            "6/6 [==============================] - 0s 4ms/step - loss: 0.0373 - accuracy: 0.9922 - val_loss: 0.0446 - val_accuracy: 0.9825\n",
            "Epoch 9/100\n",
            "6/6 [==============================] - 0s 4ms/step - loss: 0.0369 - accuracy: 0.9922 - val_loss: 0.0447 - val_accuracy: 0.9825\n",
            "Epoch 10/100\n",
            "6/6 [==============================] - 0s 4ms/step - loss: 0.0365 - accuracy: 0.9922 - val_loss: 0.0449 - val_accuracy: 0.9825\n",
            "Epoch 11/100\n",
            "6/6 [==============================] - 0s 5ms/step - loss: 0.0361 - accuracy: 0.9922 - val_loss: 0.0452 - val_accuracy: 0.9825\n",
            "Epoch 12/100\n",
            "6/6 [==============================] - 0s 8ms/step - loss: 0.0357 - accuracy: 0.9922 - val_loss: 0.0450 - val_accuracy: 0.9825\n",
            "Epoch 13/100\n",
            "6/6 [==============================] - 0s 5ms/step - loss: 0.0354 - accuracy: 0.9922 - val_loss: 0.0446 - val_accuracy: 0.9825\n",
            "Epoch 14/100\n",
            "6/6 [==============================] - 0s 5ms/step - loss: 0.0351 - accuracy: 0.9922 - val_loss: 0.0444 - val_accuracy: 0.9825\n",
            "Epoch 15/100\n",
            "6/6 [==============================] - 0s 5ms/step - loss: 0.0346 - accuracy: 0.9922 - val_loss: 0.0443 - val_accuracy: 0.9825\n",
            "Epoch 16/100\n",
            "6/6 [==============================] - 0s 5ms/step - loss: 0.0343 - accuracy: 0.9922 - val_loss: 0.0437 - val_accuracy: 0.9825\n",
            "Epoch 17/100\n",
            "6/6 [==============================] - 0s 5ms/step - loss: 0.0341 - accuracy: 0.9922 - val_loss: 0.0428 - val_accuracy: 0.9825\n",
            "Epoch 18/100\n",
            "6/6 [==============================] - 0s 5ms/step - loss: 0.0337 - accuracy: 0.9922 - val_loss: 0.0423 - val_accuracy: 0.9825\n",
            "Epoch 19/100\n",
            "6/6 [==============================] - 0s 5ms/step - loss: 0.0333 - accuracy: 0.9922 - val_loss: 0.0422 - val_accuracy: 0.9825\n",
            "Epoch 20/100\n",
            "6/6 [==============================] - 0s 5ms/step - loss: 0.0330 - accuracy: 0.9922 - val_loss: 0.0422 - val_accuracy: 0.9825\n",
            "Epoch 21/100\n",
            "6/6 [==============================] - 0s 5ms/step - loss: 0.0327 - accuracy: 0.9922 - val_loss: 0.0432 - val_accuracy: 0.9825\n",
            "Epoch 22/100\n",
            "6/6 [==============================] - 0s 5ms/step - loss: 0.0325 - accuracy: 0.9922 - val_loss: 0.0459 - val_accuracy: 0.9825\n",
            "Epoch 23/100\n",
            "6/6 [==============================] - 0s 4ms/step - loss: 0.0323 - accuracy: 0.9922 - val_loss: 0.0464 - val_accuracy: 0.9825\n",
            "Epoch 24/100\n",
            "6/6 [==============================] - 0s 9ms/step - loss: 0.0319 - accuracy: 0.9922 - val_loss: 0.0447 - val_accuracy: 0.9825\n",
            "Epoch 25/100\n",
            "6/6 [==============================] - 0s 6ms/step - loss: 0.0315 - accuracy: 0.9922 - val_loss: 0.0432 - val_accuracy: 0.9825\n",
            "Epoch 26/100\n",
            "6/6 [==============================] - 0s 4ms/step - loss: 0.0310 - accuracy: 0.9922 - val_loss: 0.0426 - val_accuracy: 0.9825\n",
            "Epoch 27/100\n",
            "6/6 [==============================] - 0s 4ms/step - loss: 0.0307 - accuracy: 0.9922 - val_loss: 0.0422 - val_accuracy: 0.9825\n",
            "Epoch 28/100\n",
            "6/6 [==============================] - 0s 5ms/step - loss: 0.0305 - accuracy: 0.9922 - val_loss: 0.0419 - val_accuracy: 0.9825\n",
            "Epoch 29/100\n",
            "6/6 [==============================] - 0s 5ms/step - loss: 0.0302 - accuracy: 0.9922 - val_loss: 0.0420 - val_accuracy: 0.9825\n",
            "Epoch 30/100\n",
            "6/6 [==============================] - 0s 5ms/step - loss: 0.0297 - accuracy: 0.9922 - val_loss: 0.0417 - val_accuracy: 0.9825\n",
            "Epoch 31/100\n",
            "6/6 [==============================] - 0s 5ms/step - loss: 0.0294 - accuracy: 0.9922 - val_loss: 0.0412 - val_accuracy: 0.9825\n",
            "Epoch 32/100\n",
            "6/6 [==============================] - 0s 5ms/step - loss: 0.0291 - accuracy: 0.9922 - val_loss: 0.0408 - val_accuracy: 0.9825\n",
            "Epoch 33/100\n",
            "6/6 [==============================] - 0s 5ms/step - loss: 0.0288 - accuracy: 0.9922 - val_loss: 0.0409 - val_accuracy: 0.9825\n",
            "Epoch 34/100\n",
            "6/6 [==============================] - 0s 5ms/step - loss: 0.0283 - accuracy: 0.9922 - val_loss: 0.0419 - val_accuracy: 0.9825\n",
            "Epoch 35/100\n",
            "6/6 [==============================] - 0s 5ms/step - loss: 0.0281 - accuracy: 0.9922 - val_loss: 0.0414 - val_accuracy: 0.9825\n",
            "Epoch 36/100\n",
            "6/6 [==============================] - 0s 5ms/step - loss: 0.0279 - accuracy: 0.9922 - val_loss: 0.0401 - val_accuracy: 0.9825\n",
            "Epoch 37/100\n",
            "6/6 [==============================] - 0s 5ms/step - loss: 0.0276 - accuracy: 0.9922 - val_loss: 0.0391 - val_accuracy: 0.9825\n",
            "Epoch 38/100\n",
            "6/6 [==============================] - 0s 5ms/step - loss: 0.0274 - accuracy: 0.9922 - val_loss: 0.0381 - val_accuracy: 0.9825\n",
            "Epoch 39/100\n",
            "6/6 [==============================] - 0s 5ms/step - loss: 0.0271 - accuracy: 0.9922 - val_loss: 0.0374 - val_accuracy: 0.9825\n",
            "Epoch 40/100\n",
            "6/6 [==============================] - 0s 5ms/step - loss: 0.0268 - accuracy: 0.9922 - val_loss: 0.0375 - val_accuracy: 0.9825\n",
            "Epoch 41/100\n",
            "6/6 [==============================] - 0s 5ms/step - loss: 0.0266 - accuracy: 0.9922 - val_loss: 0.0362 - val_accuracy: 0.9825\n",
            "Epoch 42/100\n",
            "6/6 [==============================] - 0s 5ms/step - loss: 0.0263 - accuracy: 0.9922 - val_loss: 0.0361 - val_accuracy: 0.9825\n",
            "Epoch 43/100\n",
            "6/6 [==============================] - 0s 5ms/step - loss: 0.0264 - accuracy: 0.9922 - val_loss: 0.0360 - val_accuracy: 0.9825\n",
            "Epoch 44/100\n",
            "6/6 [==============================] - 0s 5ms/step - loss: 0.0259 - accuracy: 0.9922 - val_loss: 0.0366 - val_accuracy: 0.9825\n",
            "Epoch 45/100\n",
            "6/6 [==============================] - 0s 5ms/step - loss: 0.0255 - accuracy: 0.9922 - val_loss: 0.0373 - val_accuracy: 0.9825\n",
            "Epoch 46/100\n",
            "6/6 [==============================] - 0s 5ms/step - loss: 0.0252 - accuracy: 0.9922 - val_loss: 0.0376 - val_accuracy: 0.9825\n",
            "Epoch 47/100\n",
            "6/6 [==============================] - 0s 5ms/step - loss: 0.0248 - accuracy: 0.9922 - val_loss: 0.0370 - val_accuracy: 0.9825\n",
            "Epoch 48/100\n",
            "6/6 [==============================] - 0s 5ms/step - loss: 0.0246 - accuracy: 0.9922 - val_loss: 0.0378 - val_accuracy: 0.9825\n",
            "Epoch 49/100\n",
            "6/6 [==============================] - 0s 5ms/step - loss: 0.0243 - accuracy: 0.9922 - val_loss: 0.0369 - val_accuracy: 0.9825\n",
            "Epoch 50/100\n",
            "6/6 [==============================] - 0s 4ms/step - loss: 0.0242 - accuracy: 0.9922 - val_loss: 0.0351 - val_accuracy: 0.9825\n",
            "Epoch 51/100\n",
            "6/6 [==============================] - 0s 4ms/step - loss: 0.0240 - accuracy: 0.9922 - val_loss: 0.0346 - val_accuracy: 0.9825\n",
            "Epoch 52/100\n",
            "6/6 [==============================] - 0s 5ms/step - loss: 0.0238 - accuracy: 0.9922 - val_loss: 0.0348 - val_accuracy: 0.9825\n",
            "Epoch 53/100\n",
            "6/6 [==============================] - 0s 4ms/step - loss: 0.0234 - accuracy: 0.9922 - val_loss: 0.0370 - val_accuracy: 0.9825\n",
            "Epoch 54/100\n",
            "6/6 [==============================] - 0s 4ms/step - loss: 0.0233 - accuracy: 0.9922 - val_loss: 0.0369 - val_accuracy: 0.9825\n",
            "Epoch 55/100\n",
            "6/6 [==============================] - 0s 6ms/step - loss: 0.0230 - accuracy: 0.9922 - val_loss: 0.0367 - val_accuracy: 0.9825\n",
            "Epoch 56/100\n",
            "6/6 [==============================] - 0s 5ms/step - loss: 0.0228 - accuracy: 0.9922 - val_loss: 0.0363 - val_accuracy: 0.9825\n",
            "Epoch 57/100\n",
            "6/6 [==============================] - 0s 5ms/step - loss: 0.0226 - accuracy: 0.9922 - val_loss: 0.0366 - val_accuracy: 0.9825\n",
            "Epoch 58/100\n",
            "6/6 [==============================] - 0s 5ms/step - loss: 0.0223 - accuracy: 0.9922 - val_loss: 0.0377 - val_accuracy: 0.9825\n",
            "Epoch 59/100\n",
            "6/6 [==============================] - 0s 4ms/step - loss: 0.0221 - accuracy: 0.9922 - val_loss: 0.0384 - val_accuracy: 0.9825\n",
            "Epoch 60/100\n",
            "6/6 [==============================] - 0s 5ms/step - loss: 0.0218 - accuracy: 0.9922 - val_loss: 0.0382 - val_accuracy: 0.9825\n",
            "Epoch 61/100\n",
            "6/6 [==============================] - 0s 4ms/step - loss: 0.0216 - accuracy: 0.9922 - val_loss: 0.0380 - val_accuracy: 0.9825\n",
            "Epoch 62/100\n",
            "6/6 [==============================] - 0s 5ms/step - loss: 0.0213 - accuracy: 0.9922 - val_loss: 0.0378 - val_accuracy: 0.9825\n",
            "Epoch 63/100\n",
            "6/6 [==============================] - 0s 4ms/step - loss: 0.0211 - accuracy: 0.9922 - val_loss: 0.0374 - val_accuracy: 0.9825\n",
            "Epoch 64/100\n",
            "6/6 [==============================] - 0s 5ms/step - loss: 0.0209 - accuracy: 0.9922 - val_loss: 0.0373 - val_accuracy: 0.9825\n",
            "Epoch 65/100\n",
            "6/6 [==============================] - 0s 5ms/step - loss: 0.0207 - accuracy: 0.9922 - val_loss: 0.0385 - val_accuracy: 0.9825\n",
            "Epoch 66/100\n",
            "6/6 [==============================] - 0s 5ms/step - loss: 0.0209 - accuracy: 0.9922 - val_loss: 0.0365 - val_accuracy: 0.9825\n",
            "Epoch 67/100\n",
            "6/6 [==============================] - 0s 5ms/step - loss: 0.0205 - accuracy: 0.9922 - val_loss: 0.0359 - val_accuracy: 0.9825\n",
            "Epoch 68/100\n",
            "6/6 [==============================] - 0s 4ms/step - loss: 0.0203 - accuracy: 0.9922 - val_loss: 0.0354 - val_accuracy: 0.9825\n",
            "Epoch 69/100\n",
            "6/6 [==============================] - 0s 4ms/step - loss: 0.0200 - accuracy: 0.9922 - val_loss: 0.0360 - val_accuracy: 0.9825\n",
            "Epoch 70/100\n",
            "6/6 [==============================] - 0s 4ms/step - loss: 0.0197 - accuracy: 0.9922 - val_loss: 0.0385 - val_accuracy: 0.9825\n",
            "Epoch 71/100\n",
            "6/6 [==============================] - 0s 5ms/step - loss: 0.0196 - accuracy: 0.9922 - val_loss: 0.0429 - val_accuracy: 0.9825\n",
            "Epoch 72/100\n",
            "6/6 [==============================] - 0s 5ms/step - loss: 0.0197 - accuracy: 0.9941 - val_loss: 0.0452 - val_accuracy: 0.9825\n",
            "Epoch 73/100\n",
            "6/6 [==============================] - 0s 4ms/step - loss: 0.0201 - accuracy: 0.9941 - val_loss: 0.0440 - val_accuracy: 0.9825\n",
            "Epoch 74/100\n",
            "6/6 [==============================] - 0s 5ms/step - loss: 0.0196 - accuracy: 0.9941 - val_loss: 0.0422 - val_accuracy: 0.9825\n",
            "Epoch 75/100\n",
            "6/6 [==============================] - 0s 5ms/step - loss: 0.0193 - accuracy: 0.9941 - val_loss: 0.0451 - val_accuracy: 0.9825\n",
            "Epoch 76/100\n",
            "6/6 [==============================] - 0s 5ms/step - loss: 0.0192 - accuracy: 0.9941 - val_loss: 0.0427 - val_accuracy: 0.9825\n",
            "Epoch 77/100\n",
            "6/6 [==============================] - 0s 5ms/step - loss: 0.0184 - accuracy: 0.9941 - val_loss: 0.0386 - val_accuracy: 0.9825\n",
            "Epoch 78/100\n",
            "6/6 [==============================] - 0s 5ms/step - loss: 0.0177 - accuracy: 0.9941 - val_loss: 0.0367 - val_accuracy: 0.9825\n",
            "Epoch 79/100\n",
            "6/6 [==============================] - 0s 5ms/step - loss: 0.0175 - accuracy: 0.9922 - val_loss: 0.0359 - val_accuracy: 0.9825\n",
            "Epoch 80/100\n",
            "6/6 [==============================] - 0s 5ms/step - loss: 0.0173 - accuracy: 0.9922 - val_loss: 0.0365 - val_accuracy: 0.9825\n",
            "Epoch 81/100\n",
            "6/6 [==============================] - 0s 5ms/step - loss: 0.0170 - accuracy: 0.9941 - val_loss: 0.0448 - val_accuracy: 0.9825\n",
            "Epoch 82/100\n",
            "6/6 [==============================] - 0s 5ms/step - loss: 0.0181 - accuracy: 0.9941 - val_loss: 0.0467 - val_accuracy: 0.9825\n",
            "Epoch 83/100\n",
            "6/6 [==============================] - 0s 6ms/step - loss: 0.0180 - accuracy: 0.9941 - val_loss: 0.0432 - val_accuracy: 0.9825\n",
            "Epoch 84/100\n",
            "6/6 [==============================] - 0s 5ms/step - loss: 0.0172 - accuracy: 0.9922 - val_loss: 0.0401 - val_accuracy: 0.9825\n",
            "Epoch 85/100\n",
            "6/6 [==============================] - 0s 5ms/step - loss: 0.0165 - accuracy: 0.9961 - val_loss: 0.0424 - val_accuracy: 0.9825\n",
            "Epoch 86/100\n",
            "6/6 [==============================] - 0s 6ms/step - loss: 0.0168 - accuracy: 0.9961 - val_loss: 0.0422 - val_accuracy: 0.9825\n",
            "Epoch 87/100\n",
            "6/6 [==============================] - 0s 5ms/step - loss: 0.0164 - accuracy: 0.9961 - val_loss: 0.0418 - val_accuracy: 0.9825\n",
            "Epoch 88/100\n",
            "6/6 [==============================] - 0s 5ms/step - loss: 0.0155 - accuracy: 0.9941 - val_loss: 0.0358 - val_accuracy: 0.9825\n",
            "Epoch 89/100\n",
            "6/6 [==============================] - 0s 5ms/step - loss: 0.0152 - accuracy: 0.9941 - val_loss: 0.0327 - val_accuracy: 0.9825\n",
            "Epoch 90/100\n",
            "6/6 [==============================] - 0s 5ms/step - loss: 0.0155 - accuracy: 0.9922 - val_loss: 0.0315 - val_accuracy: 0.9825\n",
            "Epoch 91/100\n",
            "6/6 [==============================] - 0s 8ms/step - loss: 0.0152 - accuracy: 0.9922 - val_loss: 0.0317 - val_accuracy: 0.9825\n",
            "Epoch 92/100\n",
            "6/6 [==============================] - 0s 6ms/step - loss: 0.0149 - accuracy: 0.9922 - val_loss: 0.0321 - val_accuracy: 0.9825\n",
            "Epoch 93/100\n",
            "6/6 [==============================] - 0s 4ms/step - loss: 0.0145 - accuracy: 0.9922 - val_loss: 0.0326 - val_accuracy: 0.9825\n",
            "Epoch 94/100\n",
            "6/6 [==============================] - 0s 5ms/step - loss: 0.0143 - accuracy: 0.9941 - val_loss: 0.0329 - val_accuracy: 0.9825\n",
            "Epoch 95/100\n",
            "6/6 [==============================] - 0s 5ms/step - loss: 0.0141 - accuracy: 0.9941 - val_loss: 0.0333 - val_accuracy: 0.9825\n",
            "Epoch 96/100\n",
            "6/6 [==============================] - 0s 4ms/step - loss: 0.0139 - accuracy: 0.9941 - val_loss: 0.0331 - val_accuracy: 0.9825\n",
            "Epoch 97/100\n",
            "6/6 [==============================] - 0s 4ms/step - loss: 0.0138 - accuracy: 0.9941 - val_loss: 0.0332 - val_accuracy: 0.9825\n",
            "Epoch 98/100\n",
            "6/6 [==============================] - 0s 4ms/step - loss: 0.0136 - accuracy: 0.9941 - val_loss: 0.0330 - val_accuracy: 0.9825\n",
            "Epoch 99/100\n",
            "6/6 [==============================] - 0s 8ms/step - loss: 0.0134 - accuracy: 0.9941 - val_loss: 0.0324 - val_accuracy: 0.9825\n",
            "Epoch 100/100\n",
            "6/6 [==============================] - 0s 4ms/step - loss: 0.0133 - accuracy: 0.9941 - val_loss: 0.0329 - val_accuracy: 0.9825\n"
          ]
        }
      ]
    },
    {
      "cell_type": "code",
      "source": [
        "%matplotlib inline\n",
        "import matplotlib.pyplot as plt\n",
        "\n",
        "acc = history.history['accuracy']\n",
        "val_acc = history.history['val_accuracy']\n",
        "# fixed accuracy at argument\n",
        "loss = history.history['loss']\n",
        "val_loss = history.history['val_loss']\n",
        "\n",
        "epochs = range(1, len(acc)+1)\n",
        "\n",
        "plt.plot(epochs, acc, 'bo', label='Training accuracy')\n",
        "plt.plot(epochs, val_acc, 'b', label = 'Validation accuracy')\n",
        "plt.title('Validation and training accuracy')\n",
        "plt.legend()\n",
        "\n",
        "plt.figure()\n",
        "\n",
        "plt.plot(epochs, loss, 'bo', label='Training loss')\n",
        "plt.plot(epochs, val_loss, 'b', label='Validation loss')\n",
        "plt.title('Training and validation loss')\n",
        "plt.legend()\n",
        "plt.show()"
      ],
      "metadata": {
        "colab": {
          "base_uri": "https://localhost:8080/",
          "height": 545
        },
        "id": "8LTzFL4VuFYI",
        "outputId": "40ab4a2e-4dc0-47b2-c7c4-be2a893680c1"
      },
      "execution_count": 62,
      "outputs": [
        {
          "output_type": "display_data",
          "data": {
            "text/plain": [
              "<Figure size 432x288 with 1 Axes>"
            ],
            "image/png": "[encoded data removed]"
          },
          "metadata": {
            "needs_background": "light"
          }
        },
        {
          "output_type": "display_data",
          "data": {
            "text/plain": [
              "<Figure size 432x288 with 1 Axes>"
            ],
            "image/png": "[encoded data removed]"
          },
          "metadata": {
            "needs_background": "light"
          }
        }
      ]
    },
    {
      "cell_type": "code",
      "source": [
        "# Predicting the Test set results\n",
        "y_pred = network.predict(X_test)\n",
        "y_pred = (y_pred > 0.5)"
      ],
      "metadata": {
        "colab": {
          "base_uri": "https://localhost:8080/"
        },
        "id": "McNm6YjwwKp6",
        "outputId": "5326ff1f-7fc5-4de2-9c87-1b39c009d016"
      },
      "execution_count": 63,
      "outputs": [
        {
          "output_type": "stream",
          "name": "stdout",
          "text": [
            "2/2 [==============================] - 0s 3ms/step\n"
          ]
        }
      ]
    },
    {
      "cell_type": "code",
      "source": [
        "from sklearn.metrics import confusion_matrix\n",
        "cm = confusion_matrix(y_test, y_pred)"
      ],
      "metadata": {
        "id": "TipjJszuwPzb"
      },
      "execution_count": 64,
      "outputs": []
    },
    {
      "cell_type": "code",
      "source": [
        "print(\"Our accuracy is {}%\".format(((cm[0][0] + cm[1][1])/57)*100))"
      ],
      "metadata": {
        "colab": {
          "base_uri": "https://localhost:8080/"
        },
        "id": "0OLYMZLCwSS4",
        "outputId": "e3384798-2619-41dc-a4f7-944616c48c86"
      },
      "execution_count": 65,
      "outputs": [
        {
          "output_type": "stream",
          "name": "stdout",
          "text": [
            "Our accuracy is 98.24561403508771%\n"
          ]
        }
      ]
    },
    {
      "cell_type": "code",
      "source": [
        "import seaborn as sns\n",
        "sns.heatmap(cm,annot=True)"
      ],
      "metadata": {
        "colab": {
          "base_uri": "https://localhost:8080/",
          "height": 283
        },
        "id": "jkKi_B5HwZ3e",
        "outputId": "36bae4ae-284f-4a4c-e21b-f19fdb36c1ac"
      },
      "execution_count": 66,
      "outputs": [
        {
          "output_type": "execute_result",
          "data": {
            "text/plain": [
              "<matplotlib.axes._subplots.AxesSubplot at 0x7fdf3e935fa0>"
            ]
          },
          "metadata": {},
          "execution_count": 66
        },
        {
          "output_type": "display_data",
          "data": {
            "text/plain": [
              "<Figure size 432x288 with 2 Axes>"
            ],
            "image/png": "[encoded data removed]"
          },
          "metadata": {
            "needs_background": "light"
          }
        }
      ]
    }
  ]
}